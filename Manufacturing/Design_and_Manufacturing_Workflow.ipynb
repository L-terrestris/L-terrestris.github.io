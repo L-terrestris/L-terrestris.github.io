{
 "cells": [
  {
   "cell_type": "markdown",
   "metadata": {},
   "source": [
    "# 1 Paper Mockup\n",
    "\n",
    "The paper mock up is identical to the solidworks design seen after. It uses the same measurements as the dynamics II assignments, and is made of cardboard (frame) and cardstock (leg and links). To hold everything together, tape can be used, but the final device would use glue as it would provide a cleaner connection. \n",
    "\n",
    "Folded: \n",
    "![Alt Text](PaperModelApart.PNG)\n",
    "![Alt Text](PaperModelAssembled.PNG)\n",
    "\n",
    "Flattened:\n",
    "![Alt Text](PaperModelFlat.PNG)"
   ]
  },
  {
   "cell_type": "markdown",
   "metadata": {},
   "source": [
    "# 2 Solidworks Model\n",
    "\n",
    "The solidworks model seen here is a 3D version of our design. The folded states depicts both the assembled and exploded view for clarity. The flattened state represents the unfolded assembly in a way that can be used for manufacturing later. The system itself consists of 3 main parts, the sarrus linkages (x2), the frame, and the leg. Holes in the device are for the motor cable to move through, and flaps are used to adhere joints to one another. \n",
    "\n",
    "Folded:\n",
    "![Alt Text](SystemFolded.PNG)\n",
    "![Alt Text](SystemFoldedEXPL.PNG)\n",
    "\n",
    "Flattened:\n",
    "![Alt Text](SystemFlattened.PNG)"
   ]
  },
  {
   "cell_type": "markdown",
   "metadata": {},
   "source": [
    "# 3 DXF file \n",
    "\n",
    "The dxf file directly from solidworks (the method of retrieving the yaml file, then getting the dxf) had issues that left every joint. To troubleshoot, we attempted to add more verticies, and even manually adding them in the program draft sight, both to no avail. Eventually, we found a different program called libreCAD that functions similarly to draft sight. This allowed us to finally obtain the proper dxf file needed, with both body (red) and joint (blue) layers. \n",
    "\n",
    "![Alt Text](LibreCADPic.PNG)"
   ]
  },
  {
   "cell_type": "markdown",
   "metadata": {},
   "source": [
    "# 4 Jupyter Notebook"
   ]
  },
  {
   "cell_type": "code",
   "execution_count": 1,
   "metadata": {
    "id": "6HHeVFHfZte_"
   },
   "outputs": [],
   "source": [
    "import foldable_robotics\n",
    "from foldable_robotics.layer import Layer\n",
    "from foldable_robotics.laminate import Laminate\n",
    "import shapely.geometry as sg\n",
    "foldable_robotics.resolution=4"
   ]
  },
  {
   "cell_type": "code",
   "execution_count": 2,
   "metadata": {
    "id": "pyet4f1IZwk9"
   },
   "outputs": [],
   "source": [
    "import foldable_robotics\n",
    "import foldable_robotics.dxf \n",
    "import numpy\n",
    "import shapely.geometry as sg\n",
    "from foldable_robotics.layer import Layer\n",
    "from foldable_robotics.laminate import Laminate\n",
    "import foldable_robotics.manufacturing\n",
    "import foldable_robotics.parts.castellated_hinge1\n",
    "import idealab_tools.plot_tris\n",
    "from math import pi, sin,cos,tan\n",
    "import idealab_tools.text_to_polygons\n",
    "foldable_robotics.display_height=200\n",
    "foldable_robotics.line_width=.5\n",
    "\n",
    "from foldable_robotics.layer import Layer\n",
    "from foldable_robotics.laminate import Laminate\n",
    "import foldable_robotics\n",
    "import foldable_robotics.dxf \n",
    "import foldable_robotics.manufacturing\n",
    "import foldable_robotics.parts.castellated_hinge1\n",
    "foldable_robotics.display_height=200\n",
    "foldable_robotics.line_width=.5\n",
    "#import workflow_support as ws\n",
    "\n",
    "import os\n",
    "import foldable_robotics.solidworks_support"
   ]
  },
  {
   "cell_type": "code",
   "execution_count": 3,
   "metadata": {
    "id": "0g7XsYRMZ-rz"
   },
   "outputs": [],
   "source": [
    "def get_bodies(filename, layername, num_layers):\n",
    "    body = foldable_robotics.dxf.read_lwpolylines(filename,layer=layername, arc_approx = 10)\n",
    "\n",
    "    bodies = [Layer(sg.Polygon(item)) for item in body]\n",
    "    body = bodies.pop(0)\n",
    "    for item in bodies:\n",
    "        body ^= item\n",
    "    body = body.to_laminate(num_layers)\n",
    "    return body"
   ]
  },
  {
   "cell_type": "code",
   "execution_count": 4,
   "metadata": {
    "id": "3smmL_czbryK"
   },
   "outputs": [],
   "source": [
    "def get_hinge_lines(filename,layername):\n",
    "    hinge_lines1 = foldable_robotics.dxf.read_lines(filename,layer=layername)\n",
    "    hinge_lines2 = foldable_robotics.dxf.read_lwpolylines(filename,layer=layername)\n",
    "    hinge_lines3 = []\n",
    "    for points in hinge_lines2:\n",
    "        hinge_lines3.append(points[:2])\n",
    "    hinge_lines = hinge_lines1 +hinge_lines3\n",
    "    return hinge_lines"
   ]
  },
  {
   "cell_type": "code",
   "execution_count": 5,
   "metadata": {
    "id": "UYqAqO73byw2"
   },
   "outputs": [],
   "source": [
    "def hinge_lines_to_hinges(hinge_lines,hinge):\n",
    "    lam = Layer().to_laminate(len(hinge))\n",
    "    all_hinges = []    \n",
    "    for p3,p4 in hinge_lines:\n",
    "        all_hinges.append(hinge.map_line_stretch((0,0),(1,0),p3,p4))\n",
    "    all_hinges = lam.unary_union(*all_hinges)\n",
    "    return all_hinges"
   ]
  },
  {
   "cell_type": "code",
   "execution_count": 6,
   "metadata": {
    "id": "9ubpN9_2b1Ca"
   },
   "outputs": [],
   "source": [
    "def get_cuts(filename,layername,thickness,num_layers):\n",
    "    cut_lines = foldable_robotics.dxf.read_lines(filename,layer=layername)\n",
    "    cut_lines += foldable_robotics.dxf.read_lwpolylines(filename,layer=layername, arc_approx = 10)\n",
    "    \n",
    "    cuts = []\n",
    "    for item in cut_lines:\n",
    "        cuts.append(Layer(sg.LineString(item)))\n",
    "    cuts = Layer().unary_union(*cuts)\n",
    "    cuts<<=thickness/2\n",
    "    cuts = cuts.to_laminate(num_layers)\n",
    "    return cuts   "
   ]
  },
  {
   "cell_type": "code",
   "execution_count": 7,
   "metadata": {
    "id": "ahqHRRBdb4Qa"
   },
   "outputs": [],
   "source": [
    "def get_holes(filename, layername,num_layers):\n",
    "    holes = foldable_robotics.dxf.read_circles(filename,layer='holes')\n",
    "    \n",
    "    holes2 = []\n",
    "    for center, radius in holes:\n",
    "        holes2.append(sg.Point(*center).buffer(radius))\n",
    "    holes_layer = Layer(*holes2)\n",
    "    holes_lam = holes_layer.to_laminate(num_layers)  \n",
    "    return holes_lam"
   ]
  },
  {
   "cell_type": "code",
   "execution_count": 8,
   "metadata": {
    "id": "9qVx5UOfb7Fs"
   },
   "outputs": [],
   "source": [
    "def hinge_width_calculator(desired_degrees,thickness):\n",
    "    theta = (180-desired_degrees)*pi/180\n",
    "    w=thickness/tan(theta)\n",
    "    return w"
   ]
  },
  {
   "cell_type": "code",
   "execution_count": 9,
   "metadata": {
    "id": "hVDpTOENb9Ac"
   },
   "outputs": [],
   "source": [
    "def polys_to_layer(l1):\n",
    "    l1 = [sg.Polygon(item) for item in l1]\n",
    "    l11 = Layer(l1.pop(0))\n",
    "    for item in l1:\n",
    "        l11 ^= Layer(item)\n",
    "    return l11"
   ]
  },
  {
   "cell_type": "code",
   "execution_count": 10,
   "metadata": {
    "id": "R-NU9ZDFcAOF"
   },
   "outputs": [],
   "source": [
    "def output_pdf(filename,design2,x,y,layers_separate = True):\n",
    "    design2 = design2.translate(x,y)\n",
    "    design2=design2.scale(1/25.4,1/25.4)\n",
    "    design2=design2.scale(foldable_robotics.pdf.ppi,foldable_robotics.pdf.ppi)\n",
    "    if isinstance(design2,Laminate):\n",
    "        if not layers_separate:\n",
    "            p=foldable_robotics.pdf.Page(filename+'.pdf')\n",
    "            for d in design2:\n",
    "    #        d = design2[0]\n",
    "                for item in d.exteriors()+d.interiors():\n",
    "                    p.draw_poly(item)\n",
    "            p.close()\n",
    "        else:\n",
    "            for ii,d in enumerate(design2):\n",
    "                p=foldable_robotics.pdf.Page(filename+'{0:03f}.pdf'.format(ii))\n",
    "                for item in d.exteriors()+d.interiors():\n",
    "                    p.draw_poly(item)\n",
    "                p.close()\n",
    "\n",
    "    elif isinstance(design2,Layer):\n",
    "        p=foldable_robotics.pdf.Page(filename+'.pdf')\n",
    "        for item in design2.exteriors()+design2.interiors():\n",
    "            p.draw_poly(item)\n",
    "        p.close()"
   ]
  },
  {
   "cell_type": "code",
   "execution_count": 11,
   "metadata": {
    "id": "Dz79SYL4cD2A"
   },
   "outputs": [],
   "source": [
    "def build_layer_numbers(num_layers, text_size = None, prop=None):\n",
    "    text_size = text_size or 1\n",
    "    prop = prop or {'family':'Arial','size':text_size}\n",
    "    layer_ids = []\n",
    "    for ii in range(num_layers): \n",
    "    \n",
    "        l = idealab_tools.text_to_polygons.text_to_polygons('Layer '+str(ii),prop=prop)\n",
    "        layer_ids.append(l)\n",
    "    \n",
    "    layer_ids = [polys_to_layer(item) for item in layer_ids]\n",
    "    layer_id = Laminate(*layer_ids)\n",
    "    return layer_id"
   ]
  },
  {
   "cell_type": "code",
   "execution_count": 12,
   "metadata": {
    "id": "CUOoRBXBcGNs"
   },
   "outputs": [],
   "source": [
    "def build_web(design2,keepout,support_width,jig_diameter,jig_hole_spacing,is_adhesive):\n",
    "    num_layers = len(design2)\n",
    "\n",
    "    layer_id = build_layer_numbers(num_layers,text_size=jig_diameter)\n",
    "\n",
    "    design_outer = foldable_robotics.manufacturing.unary_union(design2)\n",
    "    bb1= (design_outer<<jig_hole_spacing/2).bounding_box()\n",
    "    (x1,y1),p2 = bb1.bounding_box_coords()\n",
    "    w,h = bb1.get_dimensions()\n",
    "    w2 = round(w/jig_hole_spacing)*jig_hole_spacing\n",
    "    h2 = round(h/jig_hole_spacing)*jig_hole_spacing\n",
    "    \n",
    "    points = []\n",
    "    points.append(sg.Point(x1,y1))\n",
    "    points.append(sg.Point(x1+w2,y1))\n",
    "    points.append(sg.Point(x1,y1+h2))\n",
    "    points.append(sg.Point(x1+w2,y1+h2))\n",
    "    \n",
    "    layer_id = layer_id.translate(x1+jig_diameter,y1-jig_diameter/2)\n",
    "    placement_holes2 = Layer(*points)\n",
    "    placement_holes2<<=(jig_diameter/2)\n",
    "    sheet = (placement_holes2<<10).bounding_box()\n",
    "    placement_holes2=placement_holes2.to_laminate(num_layers)\n",
    "    sheet=sheet.to_laminate(num_layers)\n",
    "    \n",
    "    removable_scrap = calculate_removable_scrap(design2,sheet,support_width,is_adhesive)\n",
    "    \n",
    "    web = (removable_scrap-placement_holes2)-layer_id\n",
    "    return web,sheet"
   ]
  },
  {
   "cell_type": "code",
   "execution_count": 13,
   "metadata": {
    "id": "yoPNgQN-cKS5"
   },
   "outputs": [],
   "source": [
    "def calculate_removable_scrap(design,sheet,width,is_adhesive):\n",
    "    '''this computes all removable scrap given a sheet, a design, and a clearance width'''\n",
    "    all_scrap = sheet-design\n",
    "\n",
    "    ru = foldable_robotics.manufacturing.not_removable_up(design,is_adhesive)\n",
    "    rd = foldable_robotics.manufacturing.not_removable_down(design,is_adhesive)\n",
    "    \n",
    "    removable_scrap_up = all_scrap-(ru<<width)\n",
    "    removable_scrap_down = all_scrap-(rd<<width)\n",
    "\n",
    "    removable_scrap = removable_scrap_up|removable_scrap_down\n",
    "    return removable_scrap"
   ]
  },
  {
   "cell_type": "code",
   "execution_count": 14,
   "metadata": {
    "id": "lFfyOdrgcMZp"
   },
   "outputs": [],
   "source": [
    "#user_path = os.path.abspath(os.path.expanduser(‘~’)) user_path"
   ]
  },
  {
   "cell_type": "code",
   "execution_count": 15,
   "metadata": {
    "id": "q2nJDHeWcUQZ"
   },
   "outputs": [],
   "source": [
    "folder = 'C:/Users/Jonathan/Documents/Jupyter/Design and Manufacturing Workflow/'                       #folder with yaml file\n",
    "input_filename = folder+'TESTFlatSystemPart - Sheet1_Drawing View1.yaml'                      #All flattened assemblies\n",
    "#input_filename = folder+'SarrusLinkage - Sheet1_Drawing View1.yaml'                        #Only sarrus linkage\n",
    "output_file_name = 'design.dxf'\n",
    "New_output_file_name = 'designJoints.dxf'"
   ]
  },
  {
   "cell_type": "code",
   "execution_count": 16,
   "metadata": {
    "id": "vkdTaBIVcfM-"
   },
   "outputs": [],
   "source": [
    "round_digits = 2\n",
    "prescale=1000\n",
    "jig_diameter = 5\n",
    "support_width = 1\n",
    "kerf = .05\n",
    "jig_hole_spacing=20\n",
    "is_adhesive1 = [False]\n",
    "is_adhesive = [False,True,False,True,False]\n",
    "arc_approx = 10"
   ]
  },
  {
   "cell_type": "code",
   "execution_count": 17,
   "metadata": {
    "colab": {
     "base_uri": "https://localhost:8080/",
     "height": 316
    },
    "id": "xTr-g-v1cjPj",
    "outputId": "e3b5326b-2465-4bda-f809-cc1e4df41647",
    "scrolled": false
   },
   "outputs": [
    {
     "ename": "FileNotFoundError",
     "evalue": "[Errno 2] No such file or directory: 'C:/Users/Jonathan/Documents/Jupyter/Design and Manufacturing Workflow/TESTFlatSystemPart - Sheet1_Drawing View1.yaml'",
     "output_type": "error",
     "traceback": [
      "\u001b[1;31m---------------------------------------------------------------------------\u001b[0m",
      "\u001b[1;31mFileNotFoundError\u001b[0m                         Traceback (most recent call last)",
      "\u001b[1;32m<ipython-input-17-67c1ada5ddbf>\u001b[0m in \u001b[0;36m<module>\u001b[1;34m\u001b[0m\n\u001b[1;32m----> 1\u001b[1;33m \u001b[0mfoldable_robotics\u001b[0m\u001b[1;33m.\u001b[0m\u001b[0msolidworks_support\u001b[0m\u001b[1;33m.\u001b[0m\u001b[0mprocess\u001b[0m\u001b[1;33m(\u001b[0m\u001b[0minput_filename\u001b[0m\u001b[1;33m,\u001b[0m\u001b[0moutput_file_name\u001b[0m\u001b[1;33m,\u001b[0m\u001b[0mprescale\u001b[0m\u001b[1;33m,\u001b[0m\u001b[0mround_digits\u001b[0m\u001b[1;33m)\u001b[0m\u001b[1;33m\u001b[0m\u001b[1;33m\u001b[0m\u001b[0m\n\u001b[0m",
      "\u001b[1;32m~\\anaconda3\\lib\\site-packages\\foldable_robotics\\solidworks_support.py\u001b[0m in \u001b[0;36mprocess\u001b[1;34m(filename, output_file_name, prescale, round_digits)\u001b[0m\n\u001b[0;32m    138\u001b[0m \u001b[1;32mdef\u001b[0m \u001b[0mprocess\u001b[0m\u001b[1;33m(\u001b[0m\u001b[0mfilename\u001b[0m\u001b[1;33m,\u001b[0m\u001b[0moutput_file_name\u001b[0m\u001b[1;33m,\u001b[0m\u001b[0mprescale\u001b[0m\u001b[1;33m,\u001b[0m\u001b[0mround_digits\u001b[0m\u001b[1;33m)\u001b[0m\u001b[1;33m:\u001b[0m\u001b[1;33m\u001b[0m\u001b[1;33m\u001b[0m\u001b[0m\n\u001b[0;32m    139\u001b[0m \u001b[1;33m\u001b[0m\u001b[0m\n\u001b[1;32m--> 140\u001b[1;33m     \u001b[0mcomponents\u001b[0m \u001b[1;33m=\u001b[0m \u001b[0mcreate_loops\u001b[0m\u001b[1;33m(\u001b[0m\u001b[0mfilename\u001b[0m\u001b[1;33m,\u001b[0m\u001b[0mprescale\u001b[0m\u001b[1;33m)\u001b[0m\u001b[1;33m\u001b[0m\u001b[1;33m\u001b[0m\u001b[0m\n\u001b[0m\u001b[0;32m    141\u001b[0m     \u001b[0mlayers\u001b[0m \u001b[1;33m=\u001b[0m \u001b[1;33m[\u001b[0m\u001b[0mcomponent_to_layer\u001b[0m\u001b[1;33m(\u001b[0m\u001b[0mitem\u001b[0m\u001b[1;33m)\u001b[0m \u001b[1;32mfor\u001b[0m \u001b[0mitem\u001b[0m \u001b[1;32min\u001b[0m \u001b[0mcomponents\u001b[0m\u001b[1;33m]\u001b[0m\u001b[1;33m\u001b[0m\u001b[1;33m\u001b[0m\u001b[0m\n\u001b[0;32m    142\u001b[0m     \u001b[0mlayer2\u001b[0m \u001b[1;33m=\u001b[0m \u001b[0mLayer\u001b[0m\u001b[1;33m(\u001b[0m\u001b[1;33m)\u001b[0m\u001b[1;33m\u001b[0m\u001b[1;33m\u001b[0m\u001b[0m\n",
      "\u001b[1;32m~\\anaconda3\\lib\\site-packages\\foldable_robotics\\solidworks_support.py\u001b[0m in \u001b[0;36mcreate_loops\u001b[1;34m(filename, prescale)\u001b[0m\n\u001b[0;32m     41\u001b[0m \u001b[1;32mdef\u001b[0m \u001b[0mcreate_loops\u001b[0m\u001b[1;33m(\u001b[0m\u001b[0mfilename\u001b[0m\u001b[1;33m,\u001b[0m\u001b[0mprescale\u001b[0m\u001b[1;33m)\u001b[0m\u001b[1;33m:\u001b[0m\u001b[1;33m\u001b[0m\u001b[1;33m\u001b[0m\u001b[0m\n\u001b[0;32m     42\u001b[0m \u001b[1;31m#    plt.figure()\u001b[0m\u001b[1;33m\u001b[0m\u001b[1;33m\u001b[0m\u001b[1;33m\u001b[0m\u001b[0m\n\u001b[1;32m---> 43\u001b[1;33m     \u001b[1;32mwith\u001b[0m \u001b[0mopen\u001b[0m\u001b[1;33m(\u001b[0m\u001b[0mfilename\u001b[0m\u001b[1;33m)\u001b[0m \u001b[1;32mas\u001b[0m \u001b[0mf\u001b[0m\u001b[1;33m:\u001b[0m\u001b[1;33m\u001b[0m\u001b[1;33m\u001b[0m\u001b[0m\n\u001b[0m\u001b[0;32m     44\u001b[0m         \u001b[0mdata1\u001b[0m \u001b[1;33m=\u001b[0m \u001b[0myaml\u001b[0m\u001b[1;33m.\u001b[0m\u001b[0mload\u001b[0m\u001b[1;33m(\u001b[0m\u001b[0mf\u001b[0m\u001b[1;33m,\u001b[0m\u001b[0mLoader\u001b[0m\u001b[1;33m=\u001b[0m\u001b[0myaml\u001b[0m\u001b[1;33m.\u001b[0m\u001b[0mFullLoader\u001b[0m\u001b[1;33m)\u001b[0m\u001b[1;33m\u001b[0m\u001b[1;33m\u001b[0m\u001b[0m\n\u001b[0;32m     45\u001b[0m     \u001b[0mdata\u001b[0m \u001b[1;33m=\u001b[0m \u001b[0mobjectify\u001b[0m\u001b[1;33m(\u001b[0m\u001b[0mdata1\u001b[0m\u001b[1;33m)\u001b[0m\u001b[1;33m\u001b[0m\u001b[1;33m\u001b[0m\u001b[0m\n",
      "\u001b[1;31mFileNotFoundError\u001b[0m: [Errno 2] No such file or directory: 'C:/Users/Jonathan/Documents/Jupyter/Design and Manufacturing Workflow/TESTFlatSystemPart - Sheet1_Drawing View1.yaml'"
     ]
    }
   ],
   "source": [
    "foldable_robotics.solidworks_support.process(input_filename,output_file_name,prescale,round_digits)"
   ]
  },
  {
   "cell_type": "markdown",
   "metadata": {},
   "source": [
    "# 1 Layer manufacturing design approach"
   ]
  },
  {
   "cell_type": "markdown",
   "metadata": {},
   "source": [
    "Generating a perforated hinge for the single layer design:"
   ]
  },
  {
   "cell_type": "code",
   "execution_count": null,
   "metadata": {},
   "outputs": [],
   "source": [
    "radius = .01\n",
    "num_perforations = 5\n",
    "num_segments = num_perforations*2+1\n",
    "num_points = num_segments+1\n",
    "a=numpy.r_[0:1:num_points*1j]\n",
    "lines = []\n",
    "for ii in range(int(len(a)/2)-1):\n",
    "    p1 = sg.Point(a[2*ii+1]+radius,0)\n",
    "    p2 = sg.Point(a[2*ii+2]-radius,0)\n",
    "    lines.append(sg.LineString((p1,p2)))\n",
    "hinge = Layer(*lines)\n",
    "hinge<<=radius\n",
    "hinge = Laminate(hinge)\n",
    "\n",
    "\n",
    "w=hinge_width_calculator(150,1.1)\n",
    "hinge = hinge.scale(1,w)\n",
    "hinge.plot()"
   ]
  },
  {
   "cell_type": "code",
   "execution_count": null,
   "metadata": {},
   "outputs": [],
   "source": [
    "NUMLAYERS = len(hinge)\n",
    "NUMLAYERS"
   ]
  },
  {
   "cell_type": "code",
   "execution_count": null,
   "metadata": {},
   "outputs": [],
   "source": [
    "hinge.plot()"
   ]
  },
  {
   "cell_type": "markdown",
   "metadata": {},
   "source": [
    "Creating the main body of the design from the imported DXF. New_output_file_name is the modified design.dxf file."
   ]
  },
  {
   "cell_type": "code",
   "execution_count": null,
   "metadata": {
    "scrolled": false
   },
   "outputs": [],
   "source": [
    "body = get_bodies(New_output_file_name,'body',NUMLAYERS)\n",
    "body = foldable_robotics.manufacturing.cleanup(body,.01)\n",
    "body.plot()"
   ]
  },
  {
   "cell_type": "markdown",
   "metadata": {},
   "source": [
    "Plots the perforated hinges at each joint line from the joint layer:"
   ]
  },
  {
   "cell_type": "code",
   "execution_count": null,
   "metadata": {
    "scrolled": true
   },
   "outputs": [],
   "source": [
    "joint_lines= get_hinge_lines(New_output_file_name,'joints')\n",
    "joints = hinge_lines_to_hinges(joint_lines,hinge)\n",
    "joints = foldable_robotics.manufacturing.cleanup(joints,.001)\n",
    "joints.plot()"
   ]
  },
  {
   "cell_type": "code",
   "execution_count": null,
   "metadata": {},
   "outputs": [],
   "source": [
    "cuts = get_cuts(New_output_file_name,'cuts',.02,NUMLAYERS)\n",
    "#cuts.plot()"
   ]
  },
  {
   "cell_type": "code",
   "execution_count": null,
   "metadata": {},
   "outputs": [],
   "source": [
    "holes = get_holes(output_file_name,'holes',NUMLAYERS)\n",
    "#holes.plot()"
   ]
  },
  {
   "cell_type": "markdown",
   "metadata": {},
   "source": [
    "Generate holes at vertices to prevent collision:"
   ]
  },
  {
   "cell_type": "code",
   "execution_count": null,
   "metadata": {},
   "outputs": [],
   "source": [
    "hole,dummy = foldable_robotics.manufacturing.calc_hole(joint_lines,w)\n",
    "hole = hole.to_laminate(NUMLAYERS)\n",
    "hole<<=.2\n",
    "hole.plot()"
   ]
  },
  {
   "cell_type": "markdown",
   "metadata": {},
   "source": [
    "How the end result will look:"
   ]
  },
  {
   "cell_type": "code",
   "execution_count": null,
   "metadata": {
    "scrolled": false
   },
   "outputs": [],
   "source": [
    "design2 = body- hole - joints - cuts - holes\n",
    "design2.plot()"
   ]
  },
  {
   "cell_type": "markdown",
   "metadata": {},
   "source": [
    "Generating the keepout. In the single layer case, it is essentially equivalent to design2."
   ]
  },
  {
   "cell_type": "code",
   "execution_count": null,
   "metadata": {
    "scrolled": false
   },
   "outputs": [],
   "source": [
    "keepout =  foldable_robotics.manufacturing.keepout_laser(design2)\n",
    "keepout.plot()"
   ]
  },
  {
   "cell_type": "markdown",
   "metadata": {},
   "source": [
    "Web and sheet generation:"
   ]
  },
  {
   "cell_type": "code",
   "execution_count": null,
   "metadata": {},
   "outputs": [],
   "source": [
    "web,sheet=build_web(design2,keepout,support_width,jig_diameter,jig_hole_spacing,is_adhesive1)\n",
    "web.plot()"
   ]
  },
  {
   "cell_type": "code",
   "execution_count": null,
   "metadata": {},
   "outputs": [],
   "source": [
    "sheet.plot()"
   ]
  },
  {
   "cell_type": "markdown",
   "metadata": {},
   "source": [
    "Since it is one layer, only a first/single pass in needed."
   ]
  },
  {
   "cell_type": "code",
   "execution_count": null,
   "metadata": {},
   "outputs": [],
   "source": [
    "#No cuts at joints, so design2 is the same as the keepout.\n",
    "first_pass_scrap = sheet - design2\n",
    "first_pass_scrap = foldable_robotics.manufacturing.cleanup(first_pass_scrap,.00001)\n",
    "first_pass_scrap.plot()"
   ]
  },
  {
   "cell_type": "markdown",
   "metadata": {},
   "source": [
    "Generating support:"
   ]
  },
  {
   "cell_type": "code",
   "execution_count": null,
   "metadata": {},
   "outputs": [],
   "source": [
    "support = foldable_robotics.manufacturing.support(design2,foldable_robotics.manufacturing.keepout_laser,support_width,support_width/2)\n",
    "support.plot()"
   ]
  },
  {
   "cell_type": "markdown",
   "metadata": {},
   "source": [
    "Merging the web, design2 and support into the supported design:"
   ]
  },
  {
   "cell_type": "code",
   "execution_count": null,
   "metadata": {},
   "outputs": [],
   "source": [
    "supported_design = web|design2|support\n",
    "supported_design.plot()"
   ]
  },
  {
   "cell_type": "markdown",
   "metadata": {},
   "source": [
    "Plotting the material that will be cut and then the final cut itself:"
   ]
  },
  {
   "cell_type": "code",
   "execution_count": null,
   "metadata": {},
   "outputs": [],
   "source": [
    "#cut_line = keepout<<kerf\n",
    "cut_material = (keepout<<kerf)-keepout\n",
    "cut_material.plot()"
   ]
  },
  {
   "cell_type": "code",
   "execution_count": null,
   "metadata": {
    "scrolled": true
   },
   "outputs": [],
   "source": [
    "final_cut = sheet - keepout\n",
    "final_cut = final_cut[0]\n",
    "final_cut.plot()"
   ]
  },
  {
   "cell_type": "markdown",
   "metadata": {},
   "source": [
    "Plotting the material that will remain after the cut:"
   ]
  },
  {
   "cell_type": "code",
   "execution_count": null,
   "metadata": {},
   "outputs": [],
   "source": [
    "remaining_material = supported_design-cut_material\n",
    "remaining_material.plot()\n",
    "#make dxf here"
   ]
  },
  {
   "cell_type": "markdown",
   "metadata": {},
   "source": [
    "Plots of each separate piece resulting from the cuts:"
   ]
  },
  {
   "cell_type": "code",
   "execution_count": null,
   "metadata": {
    "scrolled": true
   },
   "outputs": [],
   "source": [
    "remaining_parts = foldable_robotics.manufacturing.find_connected(remaining_material,is_adhesive1)\n",
    "for item in remaining_parts:\n",
    "    item.plot(new=True)"
   ]
  },
  {
   "cell_type": "code",
   "execution_count": null,
   "metadata": {},
   "outputs": [],
   "source": [
    "d3=design2>>1\n",
    "for item in remaining_parts:\n",
    "    if not (item&d3).is_null():\n",
    "        break\n",
    "check = (item^design2)\n",
    "print(check.is_null())"
   ]
  },
  {
   "cell_type": "markdown",
   "metadata": {},
   "source": [
    "Exporting 1-layer DXF:"
   ]
  },
  {
   "cell_type": "code",
   "execution_count": null,
   "metadata": {},
   "outputs": [],
   "source": [
    "#if check.is_null():\n",
    "#    supported_design.export_dxf('first_pass')\n",
    "#    final_cut.export_dxf('second_pass')\n",
    "\n",
    "#supported_design.export_dxf('first_pass')\n",
    "final_cut.export_dxf('Single_Layer_Cut')"
   ]
  },
  {
   "cell_type": "markdown",
   "metadata": {},
   "source": [
    "# 5 Layer robot design approach"
   ]
  },
  {
   "cell_type": "markdown",
   "metadata": {},
   "source": [
    "Generate 5 layer castellated hinge:"
   ]
  },
  {
   "cell_type": "code",
   "execution_count": null,
   "metadata": {
    "colab": {
     "base_uri": "https://localhost:8080/",
     "height": 265
    },
    "id": "UiWgfWWFclxo",
    "outputId": "5fcb5216-5200-477d-aa84-74f05a2d93b7",
    "scrolled": true
   },
   "outputs": [],
   "source": [
    "hinge = foldable_robotics.parts.castellated_hinge1.generate()\n",
    "w=hinge_width_calculator(150,1.1)\n",
    "hinge = hinge.scale(1,w)\n",
    "hinge.plot()"
   ]
  },
  {
   "cell_type": "code",
   "execution_count": null,
   "metadata": {
    "id": "21x_h-8edIPq"
   },
   "outputs": [],
   "source": [
    "NUMLAYERS = len(hinge)\n",
    "NUMLAYERS"
   ]
  },
  {
   "cell_type": "code",
   "execution_count": null,
   "metadata": {
    "id": "o-64Wv1BdgYI"
   },
   "outputs": [],
   "source": [
    "body = get_bodies(New_output_file_name,'body',NUMLAYERS)\n",
    "body = foldable_robotics.manufacturing.cleanup(body,.01)\n",
    "body.plot()"
   ]
  },
  {
   "cell_type": "markdown",
   "metadata": {},
   "source": [
    "mapping the hinge design to each joint in your joints layer of the dxf"
   ]
  },
  {
   "cell_type": "code",
   "execution_count": null,
   "metadata": {},
   "outputs": [],
   "source": [
    "joint_lines= get_hinge_lines(New_output_file_name,'joints')\n",
    "joints = hinge_lines_to_hinges(joint_lines,hinge)\n",
    "joints = foldable_robotics.manufacturing.cleanup(joints,.02)\n",
    "joints.plot()"
   ]
  },
  {
   "cell_type": "code",
   "execution_count": null,
   "metadata": {},
   "outputs": [],
   "source": [
    "cuts = get_cuts(New_output_file_name,'cuts',.02,NUMLAYERS)\n",
    "#cuts.plot()"
   ]
  },
  {
   "cell_type": "code",
   "execution_count": null,
   "metadata": {},
   "outputs": [],
   "source": [
    "holes = get_holes(output_file_name,'holes',NUMLAYERS)\n",
    "#holes.plot()"
   ]
  },
  {
   "cell_type": "markdown",
   "metadata": {},
   "source": [
    "holes computed for any vertices"
   ]
  },
  {
   "cell_type": "code",
   "execution_count": null,
   "metadata": {
    "scrolled": true
   },
   "outputs": [],
   "source": [
    "hole,dummy = foldable_robotics.manufacturing.calc_hole(joint_lines,w)\n",
    "hole = hole.to_laminate(NUMLAYERS)\n",
    "hole<<=.2\n",
    "hole.plot()"
   ]
  },
  {
   "cell_type": "markdown",
   "metadata": {},
   "source": [
    "# 5 Layer manufacturing design approach"
   ]
  },
  {
   "cell_type": "markdown",
   "metadata": {},
   "source": [
    "Subtracting hole, cut, and joint geometries from the body, resulting in the intended design:"
   ]
  },
  {
   "cell_type": "code",
   "execution_count": null,
   "metadata": {
    "scrolled": false
   },
   "outputs": [],
   "source": [
    "design2 = body- hole - joints - cuts - holes\n",
    "design2.plot()"
   ]
  },
  {
   "cell_type": "code",
   "execution_count": null,
   "metadata": {},
   "outputs": [],
   "source": [
    "keepout =  foldable_robotics.manufacturing.keepout_laser(design2)\n",
    "keepout.plot()"
   ]
  },
  {
   "cell_type": "markdown",
   "metadata": {},
   "source": [
    "Web design"
   ]
  },
  {
   "cell_type": "code",
   "execution_count": null,
   "metadata": {
    "scrolled": true
   },
   "outputs": [],
   "source": [
    "web,sheet=build_web(design2,keepout,support_width,jig_diameter,jig_hole_spacing,is_adhesive)\n",
    "web.plot()"
   ]
  },
  {
   "cell_type": "code",
   "execution_count": null,
   "metadata": {},
   "outputs": [],
   "source": [
    "sheet.plot()"
   ]
  },
  {
   "cell_type": "code",
   "execution_count": null,
   "metadata": {},
   "outputs": [],
   "source": [
    "second_pass_scrap = sheet-keepout\n",
    "first_pass_scrap = sheet - design2-second_pass_scrap\n",
    "first_pass_scrap = foldable_robotics.manufacturing.cleanup(first_pass_scrap,.00001)\n",
    "first_pass_scrap.plot()"
   ]
  },
  {
   "cell_type": "markdown",
   "metadata": {},
   "source": [
    "Support design"
   ]
  },
  {
   "cell_type": "code",
   "execution_count": null,
   "metadata": {},
   "outputs": [],
   "source": [
    "support = foldable_robotics.manufacturing.support(design2,foldable_robotics.manufacturing.keepout_laser,support_width,support_width/2)\n",
    "support.plot()"
   ]
  },
  {
   "cell_type": "code",
   "execution_count": null,
   "metadata": {},
   "outputs": [],
   "source": [
    "#Calculate the web by using only the material which can be cut, minus a gap determined by the support width.  Is that the only material you can use?\n",
    "supported_design = web|design2|support\n",
    "supported_design.plot()"
   ]
  },
  {
   "cell_type": "code",
   "execution_count": null,
   "metadata": {},
   "outputs": [],
   "source": [
    "#cut_line = keepout<<kerf\n",
    "cut_material = (keepout<<kerf)-keepout\n",
    "cut_material.plot()"
   ]
  },
  {
   "cell_type": "code",
   "execution_count": null,
   "metadata": {},
   "outputs": [],
   "source": [
    "final_cut = sheet - keepout\n",
    "final_cut = final_cut[0]\n",
    "final_cut.plot()"
   ]
  },
  {
   "cell_type": "markdown",
   "metadata": {},
   "source": [
    "Full cutsheet"
   ]
  },
  {
   "cell_type": "code",
   "execution_count": null,
   "metadata": {},
   "outputs": [],
   "source": [
    "remaining_material = supported_design-cut_material\n",
    "remaining_material.plot()\n",
    "#make dxf here"
   ]
  },
  {
   "cell_type": "markdown",
   "metadata": {},
   "source": [
    "Connection check"
   ]
  },
  {
   "cell_type": "code",
   "execution_count": null,
   "metadata": {},
   "outputs": [],
   "source": [
    "remaining_parts = foldable_robotics.manufacturing.find_connected(remaining_material,is_adhesive)\n",
    "for item in remaining_parts:\n",
    "    item.plot(new=True)"
   ]
  },
  {
   "cell_type": "code",
   "execution_count": null,
   "metadata": {},
   "outputs": [],
   "source": [
    "d3=design2>>1\n",
    "for item in remaining_parts:\n",
    "    if not (item&d3).is_null():\n",
    "        break\n",
    "check = (item^design2)\n",
    "print(check.is_null())"
   ]
  },
  {
   "cell_type": "code",
   "execution_count": null,
   "metadata": {},
   "outputs": [],
   "source": [
    "if check.is_null():\n",
    "    supported_design.export_dxf('first_pass')\n",
    "    final_cut.export_dxf('second_pass')\n",
    "    \n"
   ]
  },
  {
   "cell_type": "code",
   "execution_count": null,
   "metadata": {},
   "outputs": [],
   "source": [
    "w,h = supported_design.get_dimensions()\n",
    "p0,p1 = supported_design.bounding_box_coords()\n",
    "\n",
    "rigid_layer = supported_design[0] | (supported_design[-1].translate(w+10,0))\n",
    "rigid_layer.plot()"
   ]
  },
  {
   "cell_type": "code",
   "execution_count": null,
   "metadata": {},
   "outputs": [],
   "source": [
    "l4 = supported_design[3].scale(-1,1)\n",
    "p2,p3 = l4.bounding_box_coords()\n",
    "l4 = l4.translate(p0[0]-p2[0]+10+w,p0[1]-p2[1])\n",
    "\n",
    "adhesive_layer = supported_design[1] | l4\n",
    "adhesive_layer.plot()"
   ]
  },
  {
   "cell_type": "code",
   "execution_count": null,
   "metadata": {},
   "outputs": [],
   "source": [
    "first_pass = Laminate(rigid_layer,adhesive_layer,supported_design[2])\n",
    "if check.is_null():\n",
    "    first_pass.export_dxf('first_pass')\n",
    "    final_cut.export_dxf('final_cut')"
   ]
  },
  {
   "cell_type": "code",
   "execution_count": null,
   "metadata": {},
   "outputs": [],
   "source": [
    "check.is_null()"
   ]
  },
  {
   "cell_type": "markdown",
   "metadata": {},
   "source": [
    "Exporting 5-layer DXFs:"
   ]
  },
  {
   "cell_type": "code",
   "execution_count": null,
   "metadata": {},
   "outputs": [],
   "source": [
    "rigid_layer.export_dxf('rigid_layer')\n",
    "adhesive_layer.export_dxf('adhesive_layer')\n",
    "final_cut.export_dxf('final_cut')"
   ]
  },
  {
   "cell_type": "markdown",
   "metadata": {},
   "source": [
    "# 5 Final DXF files"
   ]
  },
  {
   "cell_type": "markdown",
   "metadata": {},
   "source": [
    "Single layer DXF:\n",
    "\n",
    "![Alt Text](SingleLayer.PNG)\n",
    "\n",
    "5-layer adhesive DXF:\n",
    "\n",
    "![Alt Text](AdhesiveLayer.PNG)\n",
    "\n",
    "5-layer rigid DXF:\n",
    "\n",
    "![Alt Text](RigidLayer.PNG)\n",
    "\n",
    "5-layer final cut DXF:\n",
    "\n",
    "![Alt Text](FinalCut.PNG)"
   ]
  }
 ],
 "metadata": {
  "colab": {
   "collapsed_sections": [],
   "name": "Design and Manufacturing Workflow",
   "provenance": []
  },
  "kernelspec": {
   "display_name": "Python 3",
   "language": "python",
   "name": "python3"
  },
  "language_info": {
   "codemirror_mode": {
    "name": "ipython",
    "version": 3
   },
   "file_extension": ".py",
   "mimetype": "text/x-python",
   "name": "python",
   "nbconvert_exporter": "python",
   "pygments_lexer": "ipython3",
   "version": "3.8.5"
  }
 },
 "nbformat": 4,
 "nbformat_minor": 1
}
