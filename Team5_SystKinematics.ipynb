{
  "nbformat": 4,
  "nbformat_minor": 0,
  "metadata": {
    "colab": {
      "name": "Team5_SystKinematics.ipynb",
      "provenance": [],
      "collapsed_sections": [],
      "include_colab_link": true
    },
    "kernelspec": {
      "name": "python3",
      "display_name": "Python 3"
    }
  },
  "cells": [
    {
      "cell_type": "markdown",
      "metadata": {
        "id": "view-in-github",
        "colab_type": "text"
      },
      "source": [
        "<a href=\"https://colab.research.google.com/github/L-terrestris/L-terrestris.github.io/blob/main/Team5_SystKinematics.ipynb\" target=\"_parent\"><img src=\"https://colab.research.google.com/assets/colab-badge.svg\" alt=\"Open In Colab\"/></a>"
      ]
    },
    {
      "cell_type": "markdown",
      "metadata": {
        "id": "x28zupQjDhIJ"
      },
      "source": [
        "#System Kinematics\r\n",
        "\r\n",
        "Team 5\r\n",
        "\r\n",
        "\r\n",
        "\r\n",
        "Gilgal Ansah\r\n",
        "gjansah@asu.edu\r\n",
        "\r\n",
        "Javon Grimes\r\n",
        "jdgrime1@asu.edu\r\n",
        "\r\n",
        "Jonathan Nguyen\r\n",
        "jrnguyen@asu.edu\r\n",
        "\r\n",
        "Jacob Sindorf \r\n",
        "jsindorf@asu.edu\r\n"
      ]
    },
    {
      "cell_type": "markdown",
      "metadata": {
        "id": "-_cFJb1L_bSr"
      },
      "source": [
        "# Device Figure\r\n",
        "\r\n",
        "### System Kinematics"
      ]
    },
    {
      "cell_type": "markdown",
      "metadata": {
        "id": "ky0w4MaACqy7"
      },
      "source": [
        "![picture](https://drive.google.com/uc?export=view&id=13gdjIlxjZWm9enL_Ot7w5sUGL7N549lB)"
      ]
    },
    {
      "cell_type": "markdown",
      "metadata": {
        "id": "NABpJZWiCqlM"
      },
      "source": [
        "![picture](https://drive.google.com/uc?export=view&id=1MoV_SsdtSmgzAxK13p9E8fM2waOImSVn)"
      ]
    },
    {
      "cell_type": "markdown",
      "metadata": {
        "id": "ZfY5dhGV_1EO"
      },
      "source": [
        "# Paper Model \r\n",
        "\r\n",
        "The following paper model was designed using the desired lengths as seen in the systems kinematics figure. It takes 4 sarrus linkages, all with four joint arms of equal length, to allow for translational movement in one direction. \r\n",
        "\r\n",
        "To simplify the kinematics, only one sarrus linkage is considered, on a 2D plane. "
      ]
    },
    {
      "cell_type": "markdown",
      "metadata": {
        "id": "xUpviV0nCHlI"
      },
      "source": [
        "![picture](https://drive.google.com/uc?export=view&id=19D6zLbf_V9X07mIiaIu9BSjJmoZQC_L8)"
      ]
    },
    {
      "cell_type": "markdown",
      "metadata": {
        "id": "UUvFMAgVDDNX"
      },
      "source": [
        "#Kinematic Model\r\n",
        "\r\n",
        "Code of the kinematic model (see HW step 3)"
      ]
    },
    {
      "cell_type": "code",
      "metadata": {
        "id": "cQgOTpueIlK9",
        "colab": {
          "base_uri": "https://localhost:8080/"
        },
        "outputId": "ba642658-345d-45ca-c02b-6c372ffdacd7"
      },
      "source": [
        "!pip install pypoly2tri idealab_tools foldable_robotics pynamics"
      ],
      "execution_count": null,
      "outputs": [
        {
          "output_type": "stream",
          "text": [
            "Requirement already satisfied: pypoly2tri in /usr/local/lib/python3.6/dist-packages (0.0.3)\n",
            "Requirement already satisfied: idealab_tools in /usr/local/lib/python3.6/dist-packages (0.0.22)\n",
            "Requirement already satisfied: foldable_robotics in /usr/local/lib/python3.6/dist-packages (0.0.29)\n",
            "Requirement already satisfied: pynamics in /usr/local/lib/python3.6/dist-packages (0.0.8)\n",
            "Requirement already satisfied: imageio in /usr/local/lib/python3.6/dist-packages (from idealab_tools) (2.4.1)\n",
            "Requirement already satisfied: ezdxf in /usr/local/lib/python3.6/dist-packages (from foldable_robotics) (0.15.1)\n",
            "Requirement already satisfied: pyyaml in /usr/local/lib/python3.6/dist-packages (from foldable_robotics) (3.13)\n",
            "Requirement already satisfied: numpy in /usr/local/lib/python3.6/dist-packages (from foldable_robotics) (1.19.5)\n",
            "Requirement already satisfied: shapely in /usr/local/lib/python3.6/dist-packages (from foldable_robotics) (1.7.1)\n",
            "Requirement already satisfied: matplotlib in /usr/local/lib/python3.6/dist-packages (from foldable_robotics) (3.2.2)\n",
            "Requirement already satisfied: scipy in /usr/local/lib/python3.6/dist-packages (from pynamics) (1.4.1)\n",
            "Requirement already satisfied: sympy in /usr/local/lib/python3.6/dist-packages (from pynamics) (1.1.1)\n",
            "Requirement already satisfied: pillow in /usr/local/lib/python3.6/dist-packages (from imageio->idealab_tools) (7.0.0)\n",
            "Requirement already satisfied: pyparsing>=2.0.1 in /usr/local/lib/python3.6/dist-packages (from ezdxf->foldable_robotics) (2.4.7)\n",
            "Requirement already satisfied: cycler>=0.10 in /usr/local/lib/python3.6/dist-packages (from matplotlib->foldable_robotics) (0.10.0)\n",
            "Requirement already satisfied: kiwisolver>=1.0.1 in /usr/local/lib/python3.6/dist-packages (from matplotlib->foldable_robotics) (1.3.1)\n",
            "Requirement already satisfied: python-dateutil>=2.1 in /usr/local/lib/python3.6/dist-packages (from matplotlib->foldable_robotics) (2.8.1)\n",
            "Requirement already satisfied: mpmath>=0.19 in /usr/local/lib/python3.6/dist-packages (from sympy->pynamics) (1.1.0)\n",
            "Requirement already satisfied: six in /usr/local/lib/python3.6/dist-packages (from cycler>=0.10->matplotlib->foldable_robotics) (1.15.0)\n"
          ],
          "name": "stdout"
        }
      ]
    },
    {
      "cell_type": "code",
      "metadata": {
        "id": "SRRgLIQeHh_y"
      },
      "source": [
        "%matplotlib inline"
      ],
      "execution_count": null,
      "outputs": []
    },
    {
      "cell_type": "code",
      "metadata": {
        "id": "EeZqVjFKHvOl"
      },
      "source": [
        "import pynamics\r\n",
        "from pynamics.frame import Frame\r\n",
        "from pynamics.variable_types import Differentiable,Constant\r\n",
        "from pynamics.system import System\r\n",
        "#from pynamics.body import Body\r\n",
        "#from pynamics.dyadic import Dyadic\r\n",
        "from pynamics.output import Output,PointsOutput\r\n",
        "#from pynamics.particle import Particle\r\n",
        "import pynamics.integration\r\n",
        "import sympy\r\n",
        "import numpy\r\n",
        "import matplotlib.pyplot as plt\r\n",
        "plt.ion()\r\n",
        "from math import pi\r\n",
        "#from pynamics.constraint import Constraint\r\n",
        "import scipy.optimize\r\n",
        "import math as m"
      ],
      "execution_count": null,
      "outputs": []
    },
    {
      "cell_type": "code",
      "metadata": {
        "id": "skdbZ3odHw4i"
      },
      "source": [
        "system = System()\r\n",
        "pynamics.set_system(__name__,system)"
      ],
      "execution_count": null,
      "outputs": []
    },
    {
      "cell_type": "markdown",
      "metadata": {
        "id": "94A52dKjmcka"
      },
      "source": [
        "Creates the required lengths of each link and labels them  l0 to l5. The sizes of the links are the same as seen in the paper model and diagram above converted to meters. Visually we left them as inches as it is easier to read. "
      ]
    },
    {
      "cell_type": "code",
      "metadata": {
        "id": "T3sUjdpIIvWe"
      },
      "source": [
        "l0 = Constant(0.0254,'l0',system) # 1\" ~ 0.0254m  Setting constant link lengths\r\n",
        "l1 = Constant(0.0508,'l1',system)\r\n",
        "l2 = Constant(0.0254,'l2',system)\r\n",
        "l3 = Constant(0.0254,'l3',system)\r\n",
        "l4 = Constant(0.0508,'l4',system)\r\n",
        "l5 = Constant(0.0254,'l5',system)"
      ],
      "execution_count": null,
      "outputs": []
    },
    {
      "cell_type": "markdown",
      "metadata": {
        "id": "LllRjOYVmpVU"
      },
      "source": [
        "Our system will be a sideways sarrus mechanism (4 combined, one modeled here) that acheives translational motion in the x direction. The bottom link of the mechanism, depicted as pNA is what touches the ground and attaches to the newtonian frame. \r\n",
        "Below we describe the angles and their differentiables based off the system kinematics diagram. These are needed to solve the Jacobian and final system kinematics. "
      ]
    },
    {
      "cell_type": "code",
      "metadata": {
        "id": "aCWS5n8hI0P3"
      },
      "source": [
        "# Creating dynamic state variables. system argument denotes them as state variables for pynamics system from above\r\n",
        "#3bar\r\n",
        "qA,qA_d,qA_dd = Differentiable('qA',system) #Angle between N and A\r\n",
        "qB,qB_d,qB_dd = Differentiable('qB',system) #from AB\r\n",
        "qC,qC_d,qC_dd = Differentiable('qC',system)\r\n",
        "\r\n",
        "\r\n",
        "#2bar\r\n",
        "qD,qD_d,qD_dd = Differentiable('qD',system) #from DE\r\n",
        "qE,qE_d,qE_dd = Differentiable('qE',system) #from DE\r\n",
        "qF,qF_d,qF_dd = Differentiable('qF',system) #from EF"
      ],
      "execution_count": null,
      "outputs": []
    },
    {
      "cell_type": "markdown",
      "metadata": {
        "id": "GEUNrLgTnJK5"
      },
      "source": [
        "The following guess the initial values of the mechanism. Here we want to create it in a point of interesting motion, so our guesses are based on the mechanism in a halfway point. That being halfway between either extenstion or contraction. Essentially this means that the two flat plates that translate in the x direction are half way to one another giving us about a 90 degree angle between the top and bottom links. "
      ]
    },
    {
      "cell_type": "code",
      "metadata": {
        "id": "gTZhALluKBFk"
      },
      "source": [
        "#Create an initial guess for their starting positions; not necessarily accurate, given the constraint that they are\r\n",
        "#supposed to be connected with given, constant length\r\n",
        "#Guesses are close but not quite exact for the desired configuration to show that it solves correctly\r\n",
        "#3bar\r\n",
        "initialvalues = {}\r\n",
        "initialvalues[qA]=135*pi/180 \r\n",
        "# Setting initial angle values. See above for angle positions\r\n",
        "initialvalues[qA_d]=0*pi/180\r\n",
        "initialvalues[qB]=-45*pi/180  #90 is optimall guess, 45 is off to show it can solve to 90\r\n",
        "initialvalues[qB_d]=0*pi/180\r\n",
        "initialvalues[qC]=-45*pi/180\r\n",
        "initialvalues[qC_d]=0*pi/180\r\n",
        "\r\n",
        "#2bar\r\n",
        "initialvalues[qF]=35*pi/180\r\n",
        "initialvalues[qF_d]=0*pi/180\r\n",
        "initialvalues[qE]=45*pi/180   #90\r\n",
        "initialvalues[qE_d]=0*pi/180\r\n",
        "initialvalues[qD]=45*pi/180   #90\r\n",
        "initialvalues[qD_d]=0*pi/180"
      ],
      "execution_count": null,
      "outputs": []
    },
    {
      "cell_type": "code",
      "metadata": {
        "id": "rY0a6rWpL5vL"
      },
      "source": [
        "statevariables = system.get_state_variables() #Retrieve state variables in the order they are stored in the system"
      ],
      "execution_count": null,
      "outputs": []
    },
    {
      "cell_type": "markdown",
      "metadata": {
        "id": "vHGLkVHAndMC"
      },
      "source": [
        "All references frames needed to define the system. Set the N frame as the newtonian frame that is fixed. We then rotate each frame from the frame prior (seperatley for each side) about the z axis by an amount of q. q relates to the initial angles we guessed. "
      ]
    },
    {
      "cell_type": "code",
      "metadata": {
        "id": "47SfUwUOMEvN"
      },
      "source": [
        "N = Frame('N') # Initializing frames\r\n",
        "A = Frame('A')\r\n",
        "B = Frame('B')\r\n",
        "C = Frame('C')\r\n",
        "D = Frame('D')\r\n",
        "E = Frame('E')\r\n",
        "F = Frame('F')"
      ],
      "execution_count": null,
      "outputs": []
    },
    {
      "cell_type": "code",
      "metadata": {
        "id": "wg6XAGrAMNYn"
      },
      "source": [
        "system.set_newtonian(N) #Set N frame as the newtonian"
      ],
      "execution_count": null,
      "outputs": []
    },
    {
      "cell_type": "code",
      "metadata": {
        "id": "ZeKLCN-9MPOR"
      },
      "source": [
        "#3bars\r\n",
        "A.rotate_fixed_axis_directed(N,[0,0,1],qA,system) # A reference frame rotates about N's ref frame in Z direction by qA amount\r\n",
        "B.rotate_fixed_axis_directed(A,[0,0,1],qB,system)\r\n",
        "C.rotate_fixed_axis_directed(B,[0,0,1],qC,system)\r\n",
        "\r\n",
        "\r\n",
        "\r\n",
        "F.rotate_fixed_axis_directed(N,[0,0,1],qF,system)\r\n",
        "E.rotate_fixed_axis_directed(F,[0,0,1],qE,system)\r\n",
        "D.rotate_fixed_axis_directed(E,[0,0,1],qD,system)"
      ],
      "execution_count": null,
      "outputs": []
    },
    {
      "cell_type": "markdown",
      "metadata": {
        "id": "ofqsXngpoLT1"
      },
      "source": [
        "Here we define the necessary points to create the mechanism. \r\n",
        "\r\n",
        "We need the bottom link to touch the ground, giving us the two flat plates parralell to the y axis (enforced with constraints). To do this we consider two three bar mechanisms that mirror one another. We had to use two 3 bar mechanisms as the top angles (that allow pC and pD to combine) have to be specified. \r\n",
        "Each 3 bar is based off of pNA, then using distances and the respective x axis of the specified frame, we build to PCtip and PDtip which are the end effectors of the 3 bar mechanisms we need to combine. "
      ]
    },
    {
      "cell_type": "code",
      "metadata": {
        "id": "JOvHVp66M-1p"
      },
      "source": [
        "pNA=0*N.x # pNA (point NA) position is 0 units in the direction of N reference frame's x direction\r\n",
        "\r\n",
        "pAB=pNA+l0*A.x # pAB position is pNA's position plus l0 units in the direction of ref frame A's x direction\r\n",
        "\r\n",
        "pBC = pAB + l1*B.x # pBC position is pAB's position plus l1 units in the direction of ref frame B's x direction\r\n",
        "\r\n",
        "pCtip = pBC + l2*C.x\r\n",
        "\r\n",
        "\r\n",
        "pNF = 0*N.x \r\n",
        "pFE = pNF + l5*F.x # pEF position is pNF's position plus l5 units in the direction of ref frame F's x direction\r\n",
        "pD = pFE + l4*E.x # pD position is pEF's position plus l4 units in the direction of ref frame D's x direction\r\n",
        "pDtip = pD + l3*D.x\r\n"
      ],
      "execution_count": null,
      "outputs": []
    },
    {
      "cell_type": "code",
      "metadata": {
        "id": "tIg6XgsGQniu"
      },
      "source": [
        "#Arbitrary pout that represents the end effector, here it is  pFE. The system moves in one direction\r\n",
        "pout = pFE"
      ],
      "execution_count": null,
      "outputs": []
    },
    {
      "cell_type": "code",
      "metadata": {
        "id": "DMRfSCVcQugK"
      },
      "source": [
        "points = [pNA,pAB,pBC,pCtip,pDtip,pD,pFE,pNF]"
      ],
      "execution_count": null,
      "outputs": []
    },
    {
      "cell_type": "markdown",
      "metadata": {
        "id": "qUMDuk8CrcEL"
      },
      "source": [
        "Create list of initial values "
      ]
    },
    {
      "cell_type": "code",
      "metadata": {
        "id": "iGsht31cQ9Th"
      },
      "source": [
        "statevariables = system.get_state_variables()\r\n",
        "ini0 = [initialvalues[item] for item in statevariables]"
      ],
      "execution_count": null,
      "outputs": []
    },
    {
      "cell_type": "markdown",
      "metadata": {
        "id": "TK2zA7PlroP_"
      },
      "source": [
        "Create constraints. \r\n",
        "\r\n",
        "Our system has 6 inputs, which we defined as the q values earlier. We know that our independant values depend on qA, leaving dependant values for qB,qE,qF,qC,qD. With that we have 5 unknowns and will need 5 constraint equations. \r\n",
        "\r\n",
        "The following vectors are the ones we need to use for constraints. eq_vector represents the distance between pD and pBC, eq_vector2 is used for pBC pAB, and eq_vector3 is used for pD, pFE. \r\n"
      ]
    },
    {
      "cell_type": "code",
      "metadata": {
        "id": "C5nuibrYRAPr"
      },
      "source": [
        "#Define the closed loop kinematics of the four bar linkage.\r\n",
        "eq_vector = pD-pBC           # horizontal\r\n",
        "eq_vector1 = pDtip - pCtip   # merging two points\r\n",
        "eq_vector2 = pBC - pAB       # vertical\r\n",
        "eq_vector3 = pD - pFE        # vertical\r\n"
      ],
      "execution_count": null,
      "outputs": []
    },
    {
      "cell_type": "markdown",
      "metadata": {
        "id": "BRAk_1Tryjbp"
      },
      "source": [
        "The actual constraint equations (5 total for 5 unknowns) are below\r\n",
        "\r\n",
        "The first constraint makes sure that the two flat plates are parallel to one another. They are defined by the vectors pAB to pBC and pFE to pDE respectively. To make them parallel the dot product must equal the multiplied value of the magnitude. \r\n",
        "The second constraint makes the pBC,pAB vector parallel with the newtonian y axis, constraining the pFE,pDE vector too. \r\n",
        "\r\n",
        "The third and forth constraints make sure that both end effectors of the 3bar mechanisms combine and stay at the same x value in the newtonian frame\r\n",
        "\r\n",
        "The final constraint keeps pBC and pD on the same newtonian y value so that the mechanism cannot rotate.\r\n",
        "\r\n",
        "These constraints together allow us to acheive translational motion"
      ]
    },
    {
      "cell_type": "code",
      "metadata": {
        "id": "8Bx9XyK5REHP"
      },
      "source": [
        "\r\n",
        "eq = [] # eq -> equation\r\n",
        "\r\n",
        "eq.append(((eq_vector2).dot(eq_vector3))-(l1*l4))\r\n",
        "eq.append(((eq_vector2).dot(N.y))-(l1))\r\n",
        "\r\n",
        "eq.append((pCtip).dot(N.x))\r\n",
        "eq.append((pDtip).dot(N.x))\r\n",
        "\r\n",
        "eq.append((eq_vector).dot(N.y))\r\n",
        "\r\n",
        "eq_d=[(system.derivative(item)) for item in eq]"
      ],
      "execution_count": null,
      "outputs": []
    },
    {
      "cell_type": "markdown",
      "metadata": {
        "id": "5_AxFPgnzY8m"
      },
      "source": [
        "Here the independant and dependant values are officially defined. We now have the 5 constraint equations to satisfy the 5 unknowns. "
      ]
    },
    {
      "cell_type": "code",
      "metadata": {
        "id": "10lfL6L2RJeV"
      },
      "source": [
        "qi = [qA]\r\n",
        "qd = [qB,qC,qD,qE,qF] #the number of items in qd should = the number of constraints above"
      ],
      "execution_count": null,
      "outputs": []
    },
    {
      "cell_type": "code",
      "metadata": {
        "id": "eHRfXckWX80Y",
        "colab": {
          "base_uri": "https://localhost:8080/"
        },
        "outputId": "6ba5c6a0-a1ff-4e59-a1b1-39a0b4da1fb2"
      },
      "source": [
        "constants = system.constant_values.copy() # Recalls link lengths declared near beginning\r\n",
        "defined = dict([(item,initialvalues[item]) for item in qi])\r\n",
        "constants.update(defined)\r\n",
        "constants # Stores the names of constants/known values along with their values"
      ],
      "execution_count": null,
      "outputs": [
        {
          "output_type": "execute_result",
          "data": {
            "text/plain": [
              "{l₀: 0.0254, l₁: 0.0508, l₂: 0.0254, l₃: 0.0254, l₄: 0.0508, l₅: 0.0254, qA: 2\n",
              ".356194490192345}"
            ]
          },
          "metadata": {
            "tags": []
          },
          "execution_count": 19
        }
      ]
    },
    {
      "cell_type": "code",
      "metadata": {
        "id": "LTf1zSvUYDyv"
      },
      "source": [
        "#substitute constants in equation\r\n",
        "eq = [item.subs(constants) for item in eq] # substitutes the values from constants into the equation eq"
      ],
      "execution_count": null,
      "outputs": []
    },
    {
      "cell_type": "code",
      "metadata": {
        "id": "v8FJnWlIYKVk"
      },
      "source": [
        "#convert to numpy array and sum the error\r\n",
        "error = (numpy.array(eq)**2).sum()"
      ],
      "execution_count": null,
      "outputs": []
    },
    {
      "cell_type": "code",
      "metadata": {
        "id": "nolVBVZ1YPHO"
      },
      "source": [
        "#Convert to a function that scipy can use. Sympy has a “labmdify” function that\r\n",
        "#evaluates an expression, but scipy needs a slightly different format.\r\n",
        "f = sympy.lambdify(qd,error)\r\n",
        "\r\n",
        "def function(args):\r\n",
        "    return f(*args)"
      ],
      "execution_count": null,
      "outputs": []
    },
    {
      "cell_type": "code",
      "metadata": {
        "id": "SofM42tTYUgg"
      },
      "source": [
        "guess = [initialvalues[item] for item in qd]"
      ],
      "execution_count": null,
      "outputs": []
    },
    {
      "cell_type": "code",
      "metadata": {
        "id": "xP4J7cEmYYJV"
      },
      "source": [
        "result = scipy.optimize.minimize(function,guess)\r\n",
        "#if result.fun>1e-3:\r\n",
        "    #raise(Exception(\"out of tolerance\"))"
      ],
      "execution_count": null,
      "outputs": []
    },
    {
      "cell_type": "markdown",
      "metadata": {
        "id": "r-q2-Y-mzn0c"
      },
      "source": [
        "Here the code solved for the desired mechanism (orange) given the initial guesses (blue). We purposely gave a poor initial guess for one angle so that it is easy to visualize that the system solved correctly"
      ]
    },
    {
      "cell_type": "code",
      "metadata": {
        "id": "JyvW_zyNYcP2"
      },
      "source": [
        "ini = []\r\n",
        "for item in system.get_state_variables():\r\n",
        "    if item in qd:\r\n",
        "        ini.append(result.x[qd.index(item)])\r\n",
        "    else:\r\n",
        "        ini.append(initialvalues[item])"
      ],
      "execution_count": null,
      "outputs": []
    },
    {
      "cell_type": "code",
      "metadata": {
        "id": "rO0SUSm3YiKv",
        "colab": {
          "base_uri": "https://localhost:8080/",
          "height": 316
        },
        "outputId": "f9d6e8b0-7a4b-465a-9dd7-8c5e877c3122"
      },
      "source": [
        "points = PointsOutput(points, constant_values=system.constant_values)\r\n",
        "points.calc(numpy.array([ini0,ini]))\r\n",
        "points.plot_time()"
      ],
      "execution_count": null,
      "outputs": [
        {
          "output_type": "stream",
          "text": [
            "2021-02-20 01:05:34,688 - pynamics.output - INFO - calculating outputs\n",
            "2021-02-20 01:05:34,694 - pynamics.output - INFO - done calculating outputs\n"
          ],
          "name": "stderr"
        },
        {
          "output_type": "execute_result",
          "data": {
            "text/plain": [
              "<matplotlib.axes._subplots.AxesSubplot at 0x7f77cc2b98d0>"
            ]
          },
          "metadata": {
            "tags": []
          },
          "execution_count": 26
        },
        {
          "output_type": "display_data",
          "data": {
            "image/png": "[encoded data removed]",
            "text/plain": [
              "<Figure size 432x288 with 1 Axes>"
            ]
          },
          "metadata": {
            "tags": [],
            "needs_background": "light"
          }
        }
      ]
    },
    {
      "cell_type": "code",
      "metadata": {
        "id": "zU-1zeESNIka",
        "colab": {
          "base_uri": "https://localhost:8080/"
        },
        "outputId": "5bc94239-7964-4d14-dfef-4e5dbc61ca0f"
      },
      "source": [
        "points.calc(numpy.array([ini0,ini]))"
      ],
      "execution_count": null,
      "outputs": [
        {
          "output_type": "stream",
          "text": [
            "2021-02-20 01:05:34,890 - pynamics.output - INFO - calculating outputs\n",
            "2021-02-20 01:05:34,892 - pynamics.output - INFO - done calculating outputs\n"
          ],
          "name": "stderr"
        },
        {
          "output_type": "execute_result",
          "data": {
            "text/plain": [
              "array([[[ 0.00000000e+00,  0.00000000e+00],\n",
              "        [-1.79605122e-02,  1.79605122e-02],\n",
              "        [-1.79605122e-02,  6.87605122e-02],\n",
              "        [ 3.46944695e-18,  8.67210245e-02],\n",
              "        [ 1.50589479e-02,  8.54035373e-02],\n",
              "        [ 2.96277894e-02,  6.45970753e-02],\n",
              "        [ 2.08064619e-02,  1.45688415e-02],\n",
              "        [ 0.00000000e+00,  0.00000000e+00]],\n",
              "\n",
              "       [[ 0.00000000e+00,  0.00000000e+00],\n",
              "        [-1.79605122e-02,  1.79605122e-02],\n",
              "        [-1.79621975e-02,  6.87605122e-02],\n",
              "        [-2.44548202e-06,  8.67217847e-02],\n",
              "        [ 1.63592909e-06,  8.67024610e-02],\n",
              "        [ 1.80013498e-02,  6.87812362e-02],\n",
              "        [ 1.79397269e-02,  1.79812736e-02],\n",
              "        [ 0.00000000e+00,  0.00000000e+00]]])"
            ]
          },
          "metadata": {
            "tags": []
          },
          "execution_count": 27
        }
      ]
    },
    {
      "cell_type": "markdown",
      "metadata": {
        "id": "0ZpMmbrYHuUb"
      },
      "source": [
        " Find Internal Jacobian\r\n",
        "\r\n",
        " To do so we turn the constraint equations into vectors, giving us two equations for independant and dependant. We then take the derivative of those constraint equation vectors and solve for the internal input/output Jacobian"
      ]
    },
    {
      "cell_type": "code",
      "metadata": {
        "id": "KYmwtUrk7sKI"
      },
      "source": [
        "eq_d = sympy.Matrix(eq_d)"
      ],
      "execution_count": null,
      "outputs": []
    },
    {
      "cell_type": "code",
      "metadata": {
        "id": "OflhW7uf-S-S"
      },
      "source": [
        "qi = sympy.Matrix([qA_d])\r\n",
        "qd = sympy.Matrix([qB_d,qC_d,qD_d,qE_d,qF_d])"
      ],
      "execution_count": null,
      "outputs": []
    },
    {
      "cell_type": "code",
      "metadata": {
        "id": "qvdlswnC-pUU"
      },
      "source": [
        "AA = eq_d.jacobian(qi)\r\n",
        "BB = eq_d.jacobian(qd)"
      ],
      "execution_count": null,
      "outputs": []
    },
    {
      "cell_type": "code",
      "metadata": {
        "colab": {
          "base_uri": "https://localhost:8080/"
        },
        "id": "V2Wtu_tY0ekc",
        "outputId": "2cdeea16-c0f1-4fc4-e97f-8f5c0a3703d3"
      },
      "source": [
        "BB.simplify() #simplify expression so we can actually run jacobian smoothly\r\n",
        "BB"
      ],
      "execution_count": null,
      "outputs": [
        {
          "output_type": "execute_result",
          "data": {
            "text/plain": [
              "⎡     -l₁⋅l₄⋅sin(qA + qB - qE - qF)                 0                      0  \n",
              "⎢                                                                             \n",
              "⎢            l₁⋅cos(qA + qB)                        0                      0  \n",
              "⎢                                                                             \n",
              "⎢-l₁⋅sin(qA + qB) - l₂⋅sin(qA + qB + qC)  -l₂⋅sin(qA + qB + qC)            0  \n",
              "⎢                                                                             \n",
              "⎢                   0                               0            -l₃⋅sin(qD + \n",
              "⎢                                                                             \n",
              "⎣           -l₁⋅cos(qA + qB)                        0                      0  \n",
              "\n",
              "               l₁⋅l₄⋅sin(qA + qB - qE - qF)                    l₁⋅l₄⋅sin(qA + \n",
              "                                                                              \n",
              "                             0                                              0 \n",
              "                                                                              \n",
              "                             0                                              0 \n",
              "                                                                              \n",
              "qE + qF)  -l₃⋅sin(qD + qE + qF) - l₄⋅sin(qE + qF)  -l₃⋅sin(qD + qE + qF) - l₄⋅\n",
              "                                                                              \n",
              "                      l₄⋅cos(qE + qF)                          l₄⋅cos(qE + qF)\n",
              "\n",
              "qB - qE - qF)            ⎤\n",
              "                         ⎥\n",
              "                         ⎥\n",
              "                         ⎥\n",
              "                         ⎥\n",
              "                         ⎥\n",
              "sin(qE + qF) - l₅⋅sin(qF)⎥\n",
              "                         ⎥\n",
              " + l₅⋅cos(qF)            ⎦"
            ]
          },
          "metadata": {
            "tags": []
          },
          "execution_count": 31
        }
      ]
    },
    {
      "cell_type": "code",
      "metadata": {
        "id": "Cb-AyNJl-scU",
        "colab": {
          "base_uri": "https://localhost:8080/"
        },
        "outputId": "7f94dd3e-491d-4194-b1ed-724baa5409c0"
      },
      "source": [
        "J = -BB.inv()*AA\r\n",
        "J  #note, very long and very complex. simplify is necessary to comprehend"
      ],
      "execution_count": null,
      "outputs": [
        {
          "output_type": "execute_result",
          "data": {
            "text/plain": [
              "⎡                                                                             \n",
              "⎢                                                                             \n",
              "⎢                                                                             \n",
              "⎢                                                                             \n",
              "⎢                                                                             \n",
              "⎢                                                                             \n",
              "⎢                                                                             \n",
              "⎢                                                                             \n",
              "⎢                                                                             \n",
              "⎢                                                                             \n",
              "⎢                         ⎛  2                                                \n",
              "⎢                   l₁⋅l₄⋅⎝l₁ ⋅l₄⋅(-l₃⋅sin(qD + qE + qF) - l₄⋅sin(qE + qF))⋅si\n",
              "⎢─────────────────────────────────────────────────────────────────────────────\n",
              "⎢   ⎛    2    ⎛  2                                                            \n",
              "⎢l₃⋅⎝- l₁ ⋅l₄⋅⎝l₁ ⋅l₄⋅sin(qA + qB - qE - qF)⋅cos(qA + qB) - l₁⋅l₄⋅(l₄⋅cos(qE +\n",
              "⎢                                                                             \n",
              "⎢                                                                             \n",
              "⎢                                                                             \n",
              "⎢                                                                             \n",
              "⎢                                                                             \n",
              "⎢                                                                             \n",
              "⎢                                                                             \n",
              "⎢                                                                             \n",
              "⎢                                                                             \n",
              "⎢                                                                             \n",
              "⎢                                                                             \n",
              "⎣                                                                             \n",
              "\n",
              "                                                                              \n",
              "                                                                              \n",
              "                                                                              \n",
              "                                                                              \n",
              "                                                                              \n",
              "                                                                              \n",
              "                                                                              \n",
              "                                                                              \n",
              "                                                                              \n",
              "                                                                              \n",
              "                                      2                                       \n",
              "n(qA + qB - qE - qF)⋅cos(qA + qB) - l₁ ⋅l₄⋅(-l₃⋅sin(qD + qE + qF) - l₄⋅sin(qE \n",
              "──────────────────────────────────────────────────────────────────────────────\n",
              "                                         ⎞                                    \n",
              " qF) + l₅⋅cos(qF))⋅sin(qA + qB - qE - qF)⎠⋅sin(qA + qB - qE - qF)⋅cos(qA + qB)\n",
              "                                                                              \n",
              "                                                                              \n",
              "                                                                              \n",
              "                                                                              \n",
              "                                                                              \n",
              "                                                                              \n",
              "                                                                              \n",
              "                                                                              \n",
              "                                                                              \n",
              "                                                                              \n",
              "                                                                              \n",
              "                                                                              \n",
              "\n",
              "                                                                              \n",
              "                                                                              \n",
              "                                                                              \n",
              "                                                                              \n",
              "                                                                              \n",
              "                                                                              \n",
              "                                                                              \n",
              "                                                                              \n",
              "                                                                              \n",
              "                                                                              \n",
              "                                                       ⎞                      \n",
              "+ qF) - l₅⋅sin(qF))⋅sin(qA + qB - qE - qF)⋅cos(qA + qB)⎠⋅(-l₀⋅cos(qA) + l₁⋅sin\n",
              "──────────────────────────────────────────────────────────────────────────────\n",
              "     2    ⎛  2                                               2                \n",
              " + l₁ ⋅l₄⋅⎝l₁ ⋅l₄⋅sin(qA + qB - qE - qF)⋅cos(qA + qB) - l₁⋅l₄ ⋅sin(qA + qB - q\n",
              "                                                                              \n",
              "                                                                              \n",
              "                                                                              \n",
              "                                                        ──────────────────────\n",
              "                                                            2    ⎛  2         \n",
              "                                                        - l₁ ⋅l₄⋅⎝l₁ ⋅l₄⋅sin(q\n",
              "                                                                              \n",
              "                                                                              \n",
              "                                                                              \n",
              "                                                                              \n",
              "                                                                              \n",
              "                                                                              \n",
              "\n",
              "                                                                              \n",
              "                                                                              \n",
              "                                                                              \n",
              "                                                                              \n",
              "                                                                              \n",
              "                                                                              \n",
              "                                                                              \n",
              "                                                                              \n",
              "                                                                              \n",
              "                                                                              \n",
              "                                                                              \n",
              "(qA)⋅sin(qB) - l₁⋅cos(qA)⋅cos(qB))⋅sin(qA + qB - qE - qF)                     \n",
              "──────────────────────────────────────────────────────────────────────────── -\n",
              "                    ⎞                                    ⎞                    \n",
              "E - qF)⋅cos(qE + qF)⎠⋅sin(qA + qB - qE - qF)⋅cos(qA + qB)⎠⋅sin(qD + qE + qF)  \n",
              "                                                                              \n",
              "                                                                         3   2\n",
              "                                                                       l₁ ⋅l₄ \n",
              "──────────────────────────────────────────────────────────────────────────────\n",
              "                                                                              \n",
              "A + qB - qE - qF)⋅cos(qA + qB) - l₁⋅l₄⋅(l₄⋅cos(qE + qF) + l₅⋅cos(qF))⋅sin(qA +\n",
              "                                                                              \n",
              "                                                                              \n",
              "                                                                              \n",
              "                                                                              \n",
              "                                                                              \n",
              "                                                                              \n",
              "\n",
              "                                                                              \n",
              "                                                                              \n",
              "                                                                              \n",
              "                                                                              \n",
              "                                                                              \n",
              "                                                                              \n",
              "                                                                              \n",
              "                                                                              \n",
              "                                                                              \n",
              "                                                                              \n",
              "                                            ⎛                                 \n",
              " (-l₁⋅sin(qA)⋅sin(qB) + l₁⋅cos(qA)⋅cos(qB))⋅⎝l₁⋅l₄⋅(-l₃⋅sin(qD + qE + qF) - l₄\n",
              " ─────────────────────────────────────────────────────────────────────────────\n",
              "                                                                              \n",
              "                                                                              \n",
              "                                                                              \n",
              "                                                            2                 \n",
              "⋅(-l₀⋅cos(qA) + l₁⋅sin(qA)⋅sin(qB) - l₁⋅cos(qA)⋅cos(qB))⋅sin (qA + qB - qE - q\n",
              "──────────────────────────────────────────────────────────────────────────────\n",
              "              ⎞                                         2    ⎛  2             \n",
              " qB - qE - qF)⎠⋅sin(qA + qB - qE - qF)⋅cos(qA + qB) + l₁ ⋅l₄⋅⎝l₁ ⋅l₄⋅sin(qA + \n",
              "                                                                              \n",
              "                                                                              \n",
              "                                                                              \n",
              "                                                                              \n",
              "                                                                              \n",
              "                                                                              \n",
              "\n",
              "                                                                              \n",
              "                                                                              \n",
              "                                                                              \n",
              "                                                                              \n",
              "                                                                              \n",
              "                                                                              \n",
              "                                                                              \n",
              "                                                                              \n",
              "                                                                              \n",
              "                                                                              \n",
              "               ⎛    2    ⎛  2                                                 \n",
              "⋅sin(qE + qF))⋅⎝- l₁ ⋅l₄⋅⎝l₁ ⋅l₄⋅sin(qA + qB - qE - qF)⋅cos(qA + qB) - l₁⋅l₄⋅(\n",
              "──────────────────────────────────────────────────────────────────────────────\n",
              "                                                                              \n",
              "                                                                              \n",
              "                                                                              \n",
              "                                                                              \n",
              "F)⋅cos(qA + qB)                                                               \n",
              "──────────────────────────────────────────────────────────────────────────────\n",
              "                                  2                                    ⎞      \n",
              "qB - qE - qF)⋅cos(qA + qB) - l₁⋅l₄ ⋅sin(qA + qB - qE - qF)⋅cos(qE + qF)⎠⋅sin(q\n",
              "                                                                              \n",
              "                                                                              \n",
              "                                                                              \n",
              "                                                                              \n",
              "                                                                              \n",
              "                                                                              \n",
              "\n",
              "                                                                              \n",
              "                                                                              \n",
              "                                                                              \n",
              "                                                                              \n",
              "                                                                              \n",
              "                                                                              \n",
              "                                                                              \n",
              "                                                                              \n",
              "                                                                              \n",
              "                                                                              \n",
              "                                                    ⎞                         \n",
              "l₄⋅cos(qE + qF) + l₅⋅cos(qF))⋅sin(qA + qB - qE - qF)⎠⋅sin(qA + qB - qE - qF)⋅c\n",
              "──────────────────────────────────────────────────────────────────────────────\n",
              "                           2       ⎛    2    ⎛  2                             \n",
              "                         l₁ ⋅l₃⋅l₄⋅⎝- l₁ ⋅l₄⋅⎝l₁ ⋅l₄⋅sin(qA + qB - qE - qF)⋅co\n",
              "                                                                              \n",
              "                                                                            ⎛ \n",
              "                                 (-l₁⋅sin(qA)⋅sin(qB) + l₁⋅cos(qA)⋅cos(qB))⋅⎝l\n",
              "────────────────────────────── + ─────────────────────────────────────────────\n",
              "                                                                              \n",
              "A + qB - qE - qF)⋅cos(qA + qB)                                                \n",
              "                                                                              \n",
              "                                                                              \n",
              "                                                                              \n",
              "                         - ───────────────────────────────────────────────────\n",
              "                               2    ⎛  2                                      \n",
              "                           - l₁ ⋅l₄⋅⎝l₁ ⋅l₄⋅sin(qA + qB - qE - qF)⋅cos(qA + qB\n",
              "\n",
              "                                                                              \n",
              "                                                                              \n",
              "                                                                              \n",
              "                                                                              \n",
              "                                                                              \n",
              "                                                                              \n",
              "                                                                              \n",
              "                                                                              \n",
              "                                                                              \n",
              "                                                                              \n",
              "                2    ⎛  2                                               2     \n",
              "os(qA + qB) + l₁ ⋅l₄⋅⎝l₁ ⋅l₄⋅sin(qA + qB - qE - qF)⋅cos(qA + qB) - l₁⋅l₄ ⋅sin(\n",
              "──────────────────────────────────────────────────────────────────────────────\n",
              "                                                                        ⎞     \n",
              "s(qA + qB) - l₁⋅l₄⋅(l₄⋅cos(qE + qF) + l₅⋅cos(qF))⋅sin(qA + qB - qE - qF)⎠⋅sin(\n",
              "                                                                              \n",
              " 3   2 ⎛  2                                               2                   \n",
              "₁ ⋅l₄ ⋅⎝l₁ ⋅l₄⋅sin(qA + qB - qE - qF)⋅cos(qA + qB) - l₁⋅l₄ ⋅sin(qA + qB - qE -\n",
              "──────────────────────────────────────────────────────────────────────────────\n",
              "                                         2    ⎛    2    ⎛  2                  \n",
              "                                       l₁ ⋅l₄⋅⎝- l₁ ⋅l₄⋅⎝l₁ ⋅l₄⋅sin(qA + qB - \n",
              "                                                                              \n",
              "                                            3   2                             \n",
              "                                          l₁ ⋅l₄ ⋅(-l₀⋅cos(qA) + l₁⋅sin(qA)⋅si\n",
              "──────────────────────────────────────────────────────────────────────────────\n",
              "                                                               ⎞              \n",
              ") - l₁⋅l₄⋅(l₄⋅cos(qE + qF) + l₅⋅cos(qF))⋅sin(qA + qB - qE - qF)⎠⋅sin(qA + qB -\n",
              "\n",
              "                                                                              \n",
              "                                                                              \n",
              "                                                                              \n",
              "                                                                              \n",
              "                                                                              \n",
              "                             -l₀⋅sin(qA) - l₁⋅sin(qA)⋅cos(qB) - l₁⋅sin(qB)⋅cos\n",
              "                             ─────────────────────────────────────────────────\n",
              "                                                                              \n",
              "                                                                              \n",
              "                                                                              \n",
              "                               ⎞                                    ⎞         \n",
              "qA + qB - qE - qF)⋅cos(qE + qF)⎠⋅sin(qA + qB - qE - qF)⋅cos(qA + qB)⎠⋅sin(qA +\n",
              "──────────────────────────────────────────────────────────────────────────────\n",
              "                                    2    ⎛  2                                 \n",
              "qA + qB - qE - qF)⋅cos(qA + qB) + l₁ ⋅l₄⋅⎝l₁ ⋅l₄⋅sin(qA + qB - qE - qF)⋅cos(qA\n",
              "                                                                              \n",
              "                 ⎞    2                                         ⎛    2    ⎛  2\n",
              " qF)⋅cos(qE + qF)⎠⋅sin (qA + qB - qE - qF)⋅cos(qA + qB) - l₁⋅l₄⋅⎝- l₁ ⋅l₄⋅⎝l₁ \n",
              "──────────────────────────────────────────────────────────────────────────────\n",
              "                                                                              \n",
              "qE - qF)⋅cos(qA + qB) - l₁⋅l₄⋅(l₄⋅cos(qE + qF) + l₅⋅cos(qF))⋅sin(qA + qB - qE \n",
              "                                                                              \n",
              "                               2                                              \n",
              "n(qB) - l₁⋅cos(qA)⋅cos(qB))⋅sin (qA + qB - qE - qF)⋅cos(qA + qB)              \n",
              "──────────────────────────────────────────────────────────────────────────────\n",
              "                           2    ⎛  2                                          \n",
              " qE - qF)⋅cos(qA + qB) + l₁ ⋅l₄⋅⎝l₁ ⋅l₄⋅sin(qA + qB - qE - qF)⋅cos(qA + qB) - \n",
              "\n",
              "                                                                              \n",
              "                                                                              \n",
              "                                                                              \n",
              "                                                                              \n",
              "                                                                              \n",
              "(qA) + l₂⋅(sin(qA)⋅sin(qB) - cos(qA)⋅cos(qB))⋅sin(qC) + l₂⋅(-sin(qA)⋅cos(qB) -\n",
              "──────────────────────────────────────────────────────────────────────────────\n",
              "                 l₂⋅sin(qA + qB + qC)                                         \n",
              "                                                                              \n",
              "                                                                              \n",
              "                       ⎛  2                                               2   \n",
              " qB - qE - qF) - l₁⋅l₄⋅⎝l₁ ⋅l₄⋅sin(qA + qB - qE - qF)⋅cos(qA + qB) - l₁⋅l₄ ⋅si\n",
              "──────────────────────────────────────────────────────────────────────────────\n",
              "              2                                    ⎞                          \n",
              " + qB) - l₁⋅l₄ ⋅sin(qA + qB - qE - qF)⋅cos(qE + qF)⎠⋅sin(qA + qB - qE - qF)⋅co\n",
              "                                                                              \n",
              "                                                                              \n",
              "⋅l₄⋅sin(qA + qB - qE - qF)⋅cos(qA + qB) - l₁⋅l₄⋅(l₄⋅cos(qE + qF) + l₅⋅cos(qF))\n",
              "──────────────────────────────────────────────────────────────────────────────\n",
              "     ⎞                                         2    ⎛  2                      \n",
              "- qF)⎠⋅sin(qA + qB - qE - qF)⋅cos(qA + qB) + l₁ ⋅l₄⋅⎝l₁ ⋅l₄⋅sin(qA + qB - qE -\n",
              "                                                                              \n",
              "                                                                              \n",
              "                                                                              \n",
              "──────────────────────────────────────────────────────────────────────────────\n",
              "     2                                    ⎞                                   \n",
              "l₁⋅l₄ ⋅sin(qA + qB - qE - qF)⋅cos(qE + qF)⎠⋅sin(qA + qB - qE - qF)⋅cos(qA + qB\n",
              "\n",
              "                                                                              \n",
              "                                                                              \n",
              "                                                                              \n",
              "                                                                              \n",
              "                                                                              \n",
              " sin(qB)⋅cos(qA))⋅cos(qC)   (-l₁⋅sin(qA + qB) - l₂⋅sin(qA + qB + qC))⋅(-l₁⋅sin\n",
              "───────────────────────── - ──────────────────────────────────────────────────\n",
              "                                                    l₁⋅l₂⋅sin(qA + qB + qC)⋅co\n",
              "                                                                              \n",
              "                                                                              \n",
              "                                 ⎞ ⎛  2                                       \n",
              "n(qA + qB - qE - qF)⋅cos(qE + qF)⎠⋅⎝l₁ ⋅l₄⋅(-l₃⋅sin(qD + qE + qF) - l₄⋅sin(qE \n",
              "──────────────────────────────────────────────────────────────────────────────\n",
              "          ⎞                                                                   \n",
              "s(qA + qB)⎠⋅sin(qD + qE + qF)⋅sin(qA + qB - qE - qF)⋅cos(qA + qB)             \n",
              "                                                                              \n",
              "                       ⎞                                         2    ⎛  2    \n",
              "⋅sin(qA + qB - qE - qF)⎠⋅sin(qA + qB - qE - qF)⋅cos(qA + qB) + l₁ ⋅l₄⋅⎝l₁ ⋅l₄⋅\n",
              "──────────────────────────────────────────────────────────────────────────────\n",
              "                         2                                    ⎞               \n",
              " qF)⋅cos(qA + qB) - l₁⋅l₄ ⋅sin(qA + qB - qE - qF)⋅cos(qE + qF)⎠⋅sin(qA + qB - \n",
              "                                                                              \n",
              "                                                                              \n",
              "                                                                  l₁⋅l₄⋅(-l₁⋅s\n",
              "─ - ──────────────────────────────────────────────────────────────────────────\n",
              "        2    ⎛  2                                                             \n",
              ")   - l₁ ⋅l₄⋅⎝l₁ ⋅l₄⋅sin(qA + qB - qE - qF)⋅cos(qA + qB) - l₁⋅l₄⋅(l₄⋅cos(qE + \n",
              "\n",
              "                                                              -(-l₁⋅sin(qA)⋅si\n",
              "                                                              ────────────────\n",
              "                                                                            l₁\n",
              "                                                                              \n",
              "                                                                              \n",
              "(qA)⋅sin(qB) + l₁⋅cos(qA)⋅cos(qB))   (l₁⋅l₄⋅(-sin(qA)⋅sin(qB) + cos(qA)⋅cos(qB\n",
              "────────────────────────────────── + ─────────────────────────────────────────\n",
              "s(qA + qB)                                                                    \n",
              "                                                                              \n",
              "                                                                              \n",
              "                                               2                              \n",
              "+ qF))⋅sin(qA + qB - qE - qF)⋅cos(qA + qB) - l₁ ⋅l₄⋅(-l₃⋅sin(qD + qE + qF) - l\n",
              "──────────────────────────────────────────────────────────────────────────────\n",
              "                                                                              \n",
              "                                                                              \n",
              "                                                                              \n",
              "                                           2                                  \n",
              "sin(qA + qB - qE - qF)⋅cos(qA + qB) - l₁⋅l₄ ⋅sin(qA + qB - qE - qF)⋅cos(qE + q\n",
              "──────────────────────────────────────────────────────────────────────────────\n",
              "                     ⎞                                                        \n",
              "qE - qF)⋅cos(qA + qB)⎠⋅sin(qA + qB - qE - qF)⋅cos(qA + qB)                    \n",
              "                                                                              \n",
              "                                     ⎛  2                                     \n",
              "in(qA)⋅sin(qB) + l₁⋅cos(qA)⋅cos(qB))⋅⎝l₁ ⋅l₄⋅sin(qA + qB - qE - qF)⋅cos(qA + q\n",
              "──────────────────────────────────────────────────────────────────────────────\n",
              "                                        ⎞                                     \n",
              "qF) + l₅⋅cos(qF))⋅sin(qA + qB - qE - qF)⎠⋅sin(qA + qB - qE - qF)⋅cos(qA + qB) \n",
              "\n",
              "n(qB) + l₁⋅cos(qA)⋅cos(qB))                                                   \n",
              "────────────────────────────                                                  \n",
              "⋅cos(qA + qB)                                                                 \n",
              "                                                                              \n",
              "                                                                              \n",
              "))⋅(sin(qE)⋅cos(qF) + sin(qF)⋅cos(qE)) + l₁⋅l₄⋅(-sin(qA)⋅cos(qB) - sin(qB)⋅cos\n",
              "──────────────────────────────────────────────────────────────────────────────\n",
              "                                                                              \n",
              "                                                                              \n",
              "                                                                              \n",
              "                                                                ⎞             \n",
              "₄⋅sin(qE + qF) - l₅⋅sin(qF))⋅sin(qA + qB - qE - qF)⋅cos(qA + qB)⎠⋅sin(qA + qB \n",
              "──────────────────────────────────────────────────────────────────────────────\n",
              "                                                                              \n",
              "                                                                              \n",
              "                                                                              \n",
              "  ⎞                                    ⎞                       ⎞              \n",
              "F)⎠⋅sin(qA + qB - qE - qF)⋅cos(qA + qB)⎠⋅sin(qA + qB - qE - qF)⎠   (l₁⋅l₄⋅(-si\n",
              "──────────────────────────────────────────────────────────────── + ───────────\n",
              "                                                                              \n",
              "                                                                              \n",
              "                                                                              \n",
              "          2                                    ⎞                              \n",
              "B) - l₁⋅l₄ ⋅sin(qA + qB - qE - qF)⋅cos(qE + qF)⎠⋅sin(qA + qB - qE - qF)       \n",
              "──────────────────────────────────────────────────────────────────────────────\n",
              "    2    ⎛  2                                               2                 \n",
              "+ l₁ ⋅l₄⋅⎝l₁ ⋅l₄⋅sin(qA + qB - qE - qF)⋅cos(qA + qB) - l₁⋅l₄ ⋅sin(qA + qB - qE\n",
              "\n",
              "                                                                              \n",
              "                                                                              \n",
              "                                                                              \n",
              "                                                                              \n",
              "                                            ⎛    2                            \n",
              "(qA))⋅(-sin(qE)⋅sin(qF) + cos(qE)⋅cos(qF)))⋅⎝- l₁ ⋅l₄⋅(-l₁⋅sin(qA + qB) - l₂⋅s\n",
              "──────────────────────────────────────────────────────────────────────────────\n",
              "                   3      2                      2                            \n",
              "                 l₁ ⋅l₂⋅l₄ ⋅sin(qA + qB + qC)⋅sin (qA + qB - qE - qF)⋅cos(qA +\n",
              "                                                                              \n",
              "          ⎞                                                                   \n",
              "- qE - qF)⎠   (l₁⋅l₄⋅(-sin(qA)⋅sin(qB) + cos(qA)⋅cos(qB))⋅(sin(qE)⋅cos(qF) + s\n",
              "─────────── - ────────────────────────────────────────────────────────────────\n",
              "                                                                              \n",
              "                                                                              \n",
              "                                                                              \n",
              "                                                                              \n",
              "n(qA)⋅sin(qB) + cos(qA)⋅cos(qB))⋅(sin(qE)⋅cos(qF) + sin(qF)⋅cos(qE)) + l₁⋅l₄⋅(\n",
              "──────────────────────────────────────────────────────────────────────────────\n",
              "                                                                              \n",
              "                                                                              \n",
              "                                                                              \n",
              "                                                                              \n",
              "                                                           (l₁⋅l₄⋅(-sin(qA)⋅si\n",
              "──────────────────────────────────────────────────────── - ───────────────────\n",
              "                   ⎞                                                          \n",
              " - qF)⋅cos(qE + qF)⎠⋅sin(qA + qB - qE - qF)⋅cos(qA + qB)                   - l\n",
              "\n",
              "                                                                              \n",
              "                                                                              \n",
              "                                                                              \n",
              "                                                                              \n",
              "                                                          2                   \n",
              "in(qA + qB + qC))⋅sin(qA + qB - qE - qF)⋅cos(qA + qB) - l₁ ⋅l₄⋅(l₁⋅sin(qA + qB\n",
              "──────────────────────────────────────────────────────────────────────────────\n",
              "                                                                              \n",
              " qB)                                                                          \n",
              "                                                                              \n",
              "                                                                              \n",
              "in(qF)⋅cos(qE)) + l₁⋅l₄⋅(-sin(qA)⋅cos(qB) - sin(qB)⋅cos(qA))⋅(-sin(qE)⋅sin(qF)\n",
              "──────────────────────────────────────────────────────────────────────────────\n",
              "                                                                              \n",
              "                                                                              \n",
              "                                                                              \n",
              "                                                                          ⎛  2\n",
              "-sin(qA)⋅cos(qB) - sin(qB)⋅cos(qA))⋅(-sin(qE)⋅sin(qF) + cos(qE)⋅cos(qF)))⋅⎝l₁ \n",
              "──────────────────────────────────────────────────────────────────────────────\n",
              "                                                                              \n",
              "                                                                              \n",
              "                                                                              \n",
              "                                                                              \n",
              "n(qB) + cos(qA)⋅cos(qB))⋅(sin(qE)⋅cos(qF) + sin(qF)⋅cos(qE)) + l₁⋅l₄⋅(-sin(qA)\n",
              "──────────────────────────────────────────────────────────────────────────────\n",
              " 2    ⎛  2                                                                    \n",
              "₁ ⋅l₄⋅⎝l₁ ⋅l₄⋅sin(qA + qB - qE - qF)⋅cos(qA + qB) - l₁⋅l₄⋅(l₄⋅cos(qE + qF) + l\n",
              "\n",
              "                                                                              \n",
              "                                                                              \n",
              "                                                                              \n",
              "                                                                              \n",
              "                                                             ⎞                \n",
              ") + l₂⋅sin(qA + qB + qC))⋅sin(qA + qB - qE - qF)⋅cos(qA + qB)⎠                \n",
              "──────────────────────────────────────────────────────────────                \n",
              "                                                                              \n",
              "                                                                              \n",
              "                                                                              \n",
              "                     ⎛                                             ⎛    2    ⎛\n",
              " + cos(qE)⋅cos(qF)))⋅⎝l₁⋅(-l₃⋅sin(qD + qE + qF) - l₄⋅sin(qE + qF))⋅⎝- l₁ ⋅l₄⋅⎝\n",
              "──────────────────────────────────────────────────────────────────────────────\n",
              "                                                                              \n",
              "                                                                              \n",
              "                                                                              \n",
              "    ⎛    3                              2               ⎛  2                  \n",
              "⋅l₄⋅⎝- l₁ ⋅l₄⋅sin(qA + qB - qE - qF)⋅cos (qA + qB) + l₁⋅⎝l₁ ⋅l₄⋅sin(qA + qB - \n",
              "──────────────────────────────────────────────────────────────────────────────\n",
              "    2    ⎛    2    ⎛  2                                                       \n",
              "  l₁ ⋅l₄⋅⎝- l₁ ⋅l₄⋅⎝l₁ ⋅l₄⋅sin(qA + qB - qE - qF)⋅cos(qA + qB) - l₁⋅l₄⋅(l₄⋅cos\n",
              "                                                                              \n",
              "                                                                  ⎛    3      \n",
              "⋅cos(qB) - sin(qB)⋅cos(qA))⋅(-sin(qE)⋅sin(qF) + cos(qE)⋅cos(qF)))⋅⎝- l₁ ⋅l₄⋅si\n",
              "──────────────────────────────────────────────────────────────────────────────\n",
              "                                 ⎞                                         2  \n",
              "₅⋅cos(qF))⋅sin(qA + qB - qE - qF)⎠⋅sin(qA + qB - qE - qF)⋅cos(qA + qB) + l₁ ⋅l\n",
              "\n",
              "                                                                              \n",
              "                                                                              \n",
              "                                                                              \n",
              "                                                                              \n",
              "                                                                              \n",
              "                                                                              \n",
              "                                                                              \n",
              "                                                                              \n",
              "                                                                              \n",
              "                                                                              \n",
              "  2                                                                           \n",
              "l₁ ⋅l₄⋅sin(qA + qB - qE - qF)⋅cos(qA + qB) - l₁⋅l₄⋅(l₄⋅cos(qE + qF) + l₅⋅cos(q\n",
              "──────────────────────────────────────────────────────────────────────────────\n",
              "                                  2       ⎛    2    ⎛  2                      \n",
              "                                l₁ ⋅l₃⋅l₄⋅⎝- l₁ ⋅l₄⋅⎝l₁ ⋅l₄⋅sin(qA + qB - qE -\n",
              "                                                                              \n",
              "                             2                                    ⎞           \n",
              "qE - qF)⋅cos(qA + qB) - l₁⋅l₄ ⋅sin(qA + qB - qE - qF)⋅cos(qE + qF)⎠⋅cos(qA + q\n",
              "──────────────────────────────────────────────────────────────────────────────\n",
              "                                              ⎞                               \n",
              "(qE + qF) + l₅⋅cos(qF))⋅sin(qA + qB - qE - qF)⎠⋅sin(qA + qB - qE - qF)⋅cos(qA \n",
              "                                                                              \n",
              "                        2               ⎛  2                                  \n",
              "n(qA + qB - qE - qF)⋅cos (qA + qB) + l₁⋅⎝l₁ ⋅l₄⋅sin(qA + qB - qE - qF)⋅cos(qA \n",
              "──────────────────────────────────────────────────────────────────────────────\n",
              "  ⎛  2                                               2                        \n",
              "₄⋅⎝l₁ ⋅l₄⋅sin(qA + qB - qE - qF)⋅cos(qA + qB) - l₁⋅l₄ ⋅sin(qA + qB - qE - qF)⋅\n",
              "\n",
              "                                                                              \n",
              "                                                                              \n",
              "                                                                              \n",
              "                                                                              \n",
              "                                                                              \n",
              "                                                                              \n",
              "                                                                              \n",
              "                                                                              \n",
              "                                                                              \n",
              "                                                                              \n",
              "                          ⎞                                         2    ⎛  2 \n",
              "F))⋅sin(qA + qB - qE - qF)⎠⋅sin(qA + qB - qE - qF)⋅cos(qA + qB) + l₁ ⋅l₄⋅⎝l₁ ⋅\n",
              "──────────────────────────────────────────────────────────────────────────────\n",
              "                                                                              \n",
              " qF)⋅cos(qA + qB) - l₁⋅l₄⋅(l₄⋅cos(qE + qF) + l₅⋅cos(qF))⋅sin(qA + qB - qE - qF\n",
              "                                                                              \n",
              "  ⎞                                          ⎛    2    ⎛  2                   \n",
              "B)⎠⋅sin(qA + qB - qE - qF)⋅cos(qA + qB) - l₁⋅⎝- l₁ ⋅l₄⋅⎝l₁ ⋅l₄⋅sin(qA + qB - q\n",
              "──────────────────────────────────────────────────────────────────────────────\n",
              "          2    ⎛  2                                               2           \n",
              "+ qB) + l₁ ⋅l₄⋅⎝l₁ ⋅l₄⋅sin(qA + qB - qE - qF)⋅cos(qA + qB) - l₁⋅l₄ ⋅sin(qA + q\n",
              "                                                                              \n",
              "             2                                    ⎞             ⎞             \n",
              "+ qB) - l₁⋅l₄ ⋅sin(qA + qB - qE - qF)⋅cos(qE + qF)⎠⋅cos(qA + qB)⎠             \n",
              "─────────────────────────────────────────────────────────────────             \n",
              "            ⎞                                                                 \n",
              "cos(qE + qF)⎠⋅sin(qA + qB - qE - qF)⋅cos(qA + qB)                             \n",
              "\n",
              "                                                                              \n",
              "                                                                              \n",
              "                                                                              \n",
              "                                                                              \n",
              "                                                                              \n",
              "                                                                              \n",
              "                                                                              \n",
              "                                                                              \n",
              "                                                                              \n",
              "                                                                              \n",
              "                                              2                               \n",
              "l₄⋅sin(qA + qB - qE - qF)⋅cos(qA + qB) - l₁⋅l₄ ⋅sin(qA + qB - qE - qF)⋅cos(qE \n",
              "──────────────────────────────────────────────────────────────────────────────\n",
              " ⎞                                         2    ⎛  2                          \n",
              ")⎠⋅sin(qA + qB - qE - qF)⋅cos(qA + qB) + l₁ ⋅l₄⋅⎝l₁ ⋅l₄⋅sin(qA + qB - qE - qF)\n",
              "                                                                              \n",
              "                                                                              \n",
              "E - qF)⋅cos(qA + qB) - l₁⋅l₄⋅(l₄⋅cos(qE + qF) + l₅⋅cos(qF))⋅sin(qA + qB - qE -\n",
              "──────────────────────────────────────────────────────────────────────────────\n",
              "                         ⎞                                    ⎞               \n",
              "B - qE - qF)⋅cos(qE + qF)⎠⋅sin(qA + qB - qE - qF)⋅cos(qA + qB)⎠⋅sin(qA + qB - \n",
              "                                                                              \n",
              "                                                                              \n",
              "                                                                              \n",
              "                                                                              \n",
              "                                                                              \n",
              "                                                                              \n",
              "\n",
              "                                                                              \n",
              "                                                                              \n",
              "                                                                              \n",
              "                                                                              \n",
              "                                                                              \n",
              "                                                                              \n",
              "                                                                              \n",
              "                                                                              \n",
              "                                                                              \n",
              "                                                                              \n",
              "     ⎞                                    ⎞                ⎛    3             \n",
              "+ qF)⎠⋅sin(qA + qB - qE - qF)⋅cos(qA + qB)⎠⋅cos(qA + qB) - ⎝- l₁ ⋅l₄⋅sin(qA + \n",
              "──────────────────────────────────────────────────────────────────────────────\n",
              "                     2                                    ⎞                   \n",
              "⋅cos(qA + qB) - l₁⋅l₄ ⋅sin(qA + qB - qE - qF)⋅cos(qE + qF)⎠⋅sin(qA + qB - qE -\n",
              "                                                                              \n",
              "    ⎞                                         2    ⎛  2                       \n",
              " qF)⎠⋅sin(qA + qB - qE - qF)⋅cos(qA + qB) + l₁ ⋅l₄⋅⎝l₁ ⋅l₄⋅sin(qA + qB - qE - \n",
              "──────────────────────────────────────────────────────────────────────────────\n",
              "                                                                              \n",
              "qE - qF)⋅cos(qA + qB)                                                         \n",
              "                                                                              \n",
              "                                                                              \n",
              "                                                                              \n",
              "                                                                              \n",
              "                                                                              \n",
              "                                                                              \n",
              "\n",
              "                                                                              \n",
              "                                                                              \n",
              "                                                                              \n",
              "                                                                              \n",
              "                                                                              \n",
              "                                                                              \n",
              "                                                                              \n",
              "                                                                              \n",
              "                                                                              \n",
              "                                                                              \n",
              "                 2               ⎛  2                                         \n",
              "qB - qE - qF)⋅cos (qA + qB) + l₁⋅⎝l₁ ⋅l₄⋅sin(qA + qB - qE - qF)⋅cos(qA + qB) -\n",
              "──────────────────────────────────────────────────────────────────────────────\n",
              "                 ⎞                                                            \n",
              " qF)⋅cos(qA + qB)⎠⋅sin(qD + qE + qF)⋅sin(qA + qB - qE - qF)⋅cos(qA + qB)      \n",
              "                                                                              \n",
              "                        2                                    ⎞                \n",
              "qF)⋅cos(qA + qB) - l₁⋅l₄ ⋅sin(qA + qB - qE - qF)⋅cos(qE + qF)⎠⋅sin(qA + qB - q\n",
              "──────────────────────────────────────────────────────────────────────────────\n",
              "                                                                              \n",
              "                                                                              \n",
              "                                                                              \n",
              "                                                                              \n",
              "                                                                              \n",
              "                                                                              \n",
              "                                                                              \n",
              "                                                                              \n",
              "\n",
              "                                                                              \n",
              "                                                                              \n",
              "                                                                              \n",
              "                                                                              \n",
              "                                                                              \n",
              "                                                                              \n",
              "                                                                              \n",
              "                                                                              \n",
              "                                                                              \n",
              "                                                                              \n",
              "      2                                    ⎞             ⎞ ⎛  2               \n",
              " l₁⋅l₄ ⋅sin(qA + qB - qE - qF)⋅cos(qE + qF)⎠⋅cos(qA + qB)⎠⋅⎝l₁ ⋅l₄⋅(-l₃⋅sin(qD\n",
              "──────────────────────────────────────────────────────────────────────────────\n",
              "                                                                              \n",
              "                                                                              \n",
              "                                                                              \n",
              "                    ⎞             ⎞                                           \n",
              "E - qF)⋅cos(qA + qB)⎠⋅cos(qA + qB)⎠                                           \n",
              "───────────────────────────────────                                           \n",
              "                                                                              \n",
              "                                                                              \n",
              "                                                                              \n",
              "                                                                              \n",
              "                                                                              \n",
              "                                                                              \n",
              "                                                                              \n",
              "                                                                              \n",
              "\n",
              "                                                                              \n",
              "                                                                              \n",
              "                                                                              \n",
              "                                                                              \n",
              "                                                                              \n",
              "                                                                              \n",
              "                                                                              \n",
              "                                                                              \n",
              "                                                                              \n",
              "                                                                              \n",
              "                                                                       2      \n",
              " + qE + qF) - l₄⋅sin(qE + qF))⋅sin(qA + qB - qE - qF)⋅cos(qA + qB) - l₁ ⋅l₄⋅(-\n",
              "──────────────────────────────────────────────────────────────────────────────\n",
              "                                                                              \n",
              "                                                                              \n",
              "                                                                              \n",
              "                                                                              \n",
              "                                                                              \n",
              "                                                                              \n",
              "                                                                              \n",
              "                                                                              \n",
              "                                                                              \n",
              "                                                                              \n",
              "                                                                              \n",
              "                                                                              \n",
              "                                                                              \n",
              "                                                                              \n",
              "\n",
              "                                                                              \n",
              "                                                                              \n",
              "                                                                              \n",
              "                                                                              \n",
              "                                                                              \n",
              "                                                                              \n",
              "                                                                              \n",
              "                                                                              \n",
              "                                                                              \n",
              "                                                                              \n",
              "                                                                              \n",
              "l₃⋅sin(qD + qE + qF) - l₄⋅sin(qE + qF) - l₅⋅sin(qF))⋅sin(qA + qB - qE - qF)⋅co\n",
              "──────────────────────────────────────────────────────────────────────────────\n",
              "                                                                              \n",
              "                                                                              \n",
              "                                                                              \n",
              "                                                                              \n",
              "                                                                              \n",
              "                                                                              \n",
              "                                                                              \n",
              "                                                                              \n",
              "                                                                              \n",
              "                                                                              \n",
              "                                                                              \n",
              "                                                                              \n",
              "                                                                              \n",
              "                                                                              \n",
              "\n",
              "            ⎤\n",
              "            ⎥\n",
              "            ⎥\n",
              "            ⎥\n",
              "            ⎥\n",
              "            ⎥\n",
              "            ⎥\n",
              "            ⎥\n",
              "            ⎥\n",
              "            ⎥\n",
              "          ⎞⎞⎥\n",
              "s(qA + qB)⎠⎠⎥\n",
              "────────────⎥\n",
              "            ⎥\n",
              "            ⎥\n",
              "            ⎥\n",
              "            ⎥\n",
              "            ⎥\n",
              "            ⎥\n",
              "            ⎥\n",
              "            ⎥\n",
              "            ⎥\n",
              "            ⎥\n",
              "            ⎥\n",
              "            ⎥\n",
              "            ⎥\n",
              "            ⎦"
            ]
          },
          "metadata": {
            "tags": []
          },
          "execution_count": 32
        }
      ]
    },
    {
      "cell_type": "markdown",
      "metadata": {
        "id": "DxQiZehGzKoV"
      },
      "source": [
        "We can then simplify the jacobian into a clean looking form that we can utulize for calculations. qd2 is the dependant variables we solve for and subs substitutes the values for us. An example finding vout is shown below that is reused in part 8 of this assignment"
      ]
    },
    {
      "cell_type": "code",
      "metadata": {
        "id": "g8079NLLKZml",
        "colab": {
          "base_uri": "https://localhost:8080/"
        },
        "outputId": "9123040c-5d03-451e-e91a-9f1a372d4b33"
      },
      "source": [
        "J.simplify()\r\n",
        "J"
      ],
      "execution_count": null,
      "outputs": [
        {
          "output_type": "execute_result",
          "data": {
            "text/plain": [
              "⎡         -1         ⎤\n",
              "⎢                    ⎥\n",
              "⎢    -l₀⋅sin(qA)     ⎥\n",
              "⎢────────────────────⎥\n",
              "⎢l₂⋅sin(qA + qB + qC)⎥\n",
              "⎢                    ⎥\n",
              "⎢-l₀⋅cos(qA)⋅tan(qF) ⎥\n",
              "⎢────────────────────⎥\n",
              "⎢l₃⋅sin(qD + qE + qF)⎥\n",
              "⎢                    ⎥\n",
              "⎢    -l₀⋅cos(qA)     ⎥\n",
              "⎢    ────────────    ⎥\n",
              "⎢     l₅⋅cos(qF)     ⎥\n",
              "⎢                    ⎥\n",
              "⎢     l₀⋅cos(qA)     ⎥\n",
              "⎢     ──────────     ⎥\n",
              "⎣     l₅⋅cos(qF)     ⎦"
            ]
          },
          "metadata": {
            "tags": []
          },
          "execution_count": 33
        }
      ]
    },
    {
      "cell_type": "code",
      "metadata": {
        "id": "jxLBMCh73rcT",
        "colab": {
          "base_uri": "https://localhost:8080/"
        },
        "outputId": "38e28f51-949d-4374-b4b5-369bfd435131"
      },
      "source": [
        "qd2 = J*qi\r\n",
        "qd2"
      ],
      "execution_count": null,
      "outputs": [
        {
          "output_type": "execute_result",
          "data": {
            "text/plain": [
              "⎡          -qA_d          ⎤\n",
              "⎢                         ⎥\n",
              "⎢   -l₀⋅qA_d⋅sin(qA)      ⎥\n",
              "⎢  ────────────────────   ⎥\n",
              "⎢  l₂⋅sin(qA + qB + qC)   ⎥\n",
              "⎢                         ⎥\n",
              "⎢-l₀⋅qA_d⋅cos(qA)⋅tan(qF) ⎥\n",
              "⎢─────────────────────────⎥\n",
              "⎢   l₃⋅sin(qD + qE + qF)  ⎥\n",
              "⎢                         ⎥\n",
              "⎢    -l₀⋅qA_d⋅cos(qA)     ⎥\n",
              "⎢    ─────────────────    ⎥\n",
              "⎢        l₅⋅cos(qF)       ⎥\n",
              "⎢                         ⎥\n",
              "⎢     l₀⋅qA_d⋅cos(qA)     ⎥\n",
              "⎢     ───────────────     ⎥\n",
              "⎣        l₅⋅cos(qF)       ⎦"
            ]
          },
          "metadata": {
            "tags": []
          },
          "execution_count": 34
        }
      ]
    },
    {
      "cell_type": "code",
      "metadata": {
        "id": "56By-MNx38ai",
        "colab": {
          "base_uri": "https://localhost:8080/"
        },
        "outputId": "530438a6-3e4d-4ae1-a8eb-e086ce48998c"
      },
      "source": [
        "subs = dict([(ii,jj) for ii,jj in zip(qd,qd2)])\r\n",
        "subs"
      ],
      "execution_count": null,
      "outputs": [
        {
          "output_type": "execute_result",
          "data": {
            "text/plain": [
              "⎧                    -l₀⋅qA_d⋅sin(qA)           -l₀⋅qA_d⋅cos(qA)⋅tan(qF)      \n",
              "⎨qB_d: -qA_d, qC_d: ────────────────────, qD_d: ─────────────────────────, qE_\n",
              "⎩                   l₂⋅sin(qA + qB + qC)           l₃⋅sin(qD + qE + qF)       \n",
              "\n",
              "   -l₀⋅qA_d⋅cos(qA)         l₀⋅qA_d⋅cos(qA)⎫\n",
              "d: ─────────────────, qF_d: ───────────────⎬\n",
              "       l₅⋅cos(qF)              l₅⋅cos(qF)  ⎭"
            ]
          },
          "metadata": {
            "tags": []
          },
          "execution_count": 35
        }
      ]
    },
    {
      "cell_type": "code",
      "metadata": {
        "id": "3vzUL7P438MH",
        "colab": {
          "base_uri": "https://localhost:8080/"
        },
        "outputId": "8dfc7de1-1563-4935-dd0e-87392f6e41cd"
      },
      "source": [
        "pout #pBC end effector"
      ],
      "execution_count": null,
      "outputs": [
        {
          "output_type": "execute_result",
          "data": {
            "text/plain": [
              "l5*F.x"
            ]
          },
          "metadata": {
            "tags": []
          },
          "execution_count": 36
        }
      ]
    },
    {
      "cell_type": "code",
      "metadata": {
        "id": "YRwFsnwZ379Y",
        "colab": {
          "base_uri": "https://localhost:8080/"
        },
        "outputId": "1a3cdda3-a729-4299-eb86-64c0aab34358"
      },
      "source": [
        "vout = pout.time_derivative()\r\n",
        "vout"
      ],
      "execution_count": null,
      "outputs": [
        {
          "output_type": "execute_result",
          "data": {
            "text/plain": [
              "l5*qF_d*F.y"
            ]
          },
          "metadata": {
            "tags": []
          },
          "execution_count": 37
        }
      ]
    },
    {
      "cell_type": "code",
      "metadata": {
        "id": "vDtO9mdR4CwW",
        "colab": {
          "base_uri": "https://localhost:8080/"
        },
        "outputId": "5c6782f5-59a4-49ff-c420-edee166f00a2"
      },
      "source": [
        "vout = vout.subs(subs)\r\n",
        "vout"
      ],
      "execution_count": null,
      "outputs": [
        {
          "output_type": "execute_result",
          "data": {
            "text/plain": [
              "l0*qA_d*F.y*cos(qA)/cos(qF)"
            ]
          },
          "metadata": {
            "tags": []
          },
          "execution_count": 38
        }
      ]
    },
    {
      "cell_type": "code",
      "metadata": {
        "id": "lUKSbfuQ4Cid"
      },
      "source": [
        ""
      ],
      "execution_count": null,
      "outputs": []
    },
    {
      "cell_type": "markdown",
      "metadata": {
        "id": "Dz_pYtNNOmXh"
      },
      "source": [
        "## Middle of Typical Gait (#4)"
      ]
    },
    {
      "cell_type": "markdown",
      "metadata": {
        "id": "BiEl9_Zazw5r"
      },
      "source": [
        "As mentioned above, when solving the constraints and creating the mechanism, we initially made it into a position of interest. That position being the midway point between full extension and full compression. That point in the motion is where all the motion occurs as the system occilates between compression and decompression states to generate its peristaltic motion. "
      ]
    },
    {
      "cell_type": "markdown",
      "metadata": {
        "id": "8iFG44zMOydf"
      },
      "source": [
        "## Plot (#5)"
      ]
    },
    {
      "cell_type": "markdown",
      "metadata": {
        "id": "tRx_8T4S0av3"
      },
      "source": [
        "![picture](https://drive.google.com/uc?export=view&id=1GKrT557wQNKp3ZWGv9lyS1ks0-B5QCnt)"
      ]
    },
    {
      "cell_type": "markdown",
      "metadata": {
        "id": "-b3lmx6mO1-i"
      },
      "source": [
        "## Force Vector Estimates (#6)"
      ]
    },
    {
      "cell_type": "markdown",
      "metadata": {
        "id": "zD9CDu858uG0"
      },
      "source": [
        ">From your biomechanics-based specifications, define one or more force vector estimates (one for each end effector) that the system should be expected to experience. Consider including, based on your research\r\n",
        ">\r\n",
        ">1. the force of gravity exerted by the mass of a “payload” or the main body of the robot.\r\n",
        ">2. the acceleration the system experiences during a typical gait\r\n",
        ">3. ground reaction forces measured from biomechanics studies.\r\n",
        "\r\n",
        "Below are some of the main forces we are considering.\r\n",
        "\r\n",
        "- Gravity -> Friction on End-Effector and Rear/Base\r\n",
        " - Need to consider weight of motor and weight of materials\r\n",
        "- Spring Force\r\n",
        " - Defined by distance between links and spring constant\r\n",
        "- Tension from Motor/String\r\n",
        " - Enough to match or surpass spring force"
      ]
    },
    {
      "cell_type": "markdown",
      "metadata": {
        "id": "QvN1-JjChbLn"
      },
      "source": [
        "Average Velocity (m/s) \r\n",
        "\r\n",
        "0.02 m/s\r\n",
        "\r\n",
        "Fround Reaction Force (N)\r\n",
        "\r\n",
        "1.07×10-1 N"
      ]
    },
    {
      "cell_type": "code",
      "metadata": {
        "id": "UFcnvCTvg2UX"
      },
      "source": [
        ""
      ],
      "execution_count": null,
      "outputs": []
    },
    {
      "cell_type": "markdown",
      "metadata": {
        "id": "ZaFTrZAVO-k0"
      },
      "source": [
        "# Force/Torque at Input (#7)"
      ]
    },
    {
      "cell_type": "markdown",
      "metadata": {
        "id": "nQiOpp8D-UNq"
      },
      "source": [
        ">Calculate the force or torque required at the input to satisfy the end-effector force requirements\r\n",
        "\r\n",
        "Below is the calculation of the force required at the input, based on the sarrus kinematics assignment.\r\n"
      ]
    },
    {
      "cell_type": "code",
      "metadata": {
        "id": "jf3s5AvgPDKm",
        "colab": {
          "base_uri": "https://localhost:8080/"
        },
        "outputId": "8d1523a1-0278-47e7-9319-eaf342d4738d"
      },
      "source": [
        "F_ee = numpy.array([-0.5, 0,0,0,0]).T # Arbitrary force vector on end effector; need to figure out how to use the 5x1 Jacobian\r\n",
        "F_in = J.T.dot(F_ee)\r\n",
        "F_in"
      ],
      "execution_count": null,
      "outputs": [
        {
          "output_type": "execute_result",
          "data": {
            "text/plain": [
              "0.500000000000000"
            ]
          },
          "metadata": {
            "tags": []
          },
          "execution_count": 39
        }
      ]
    },
    {
      "cell_type": "markdown",
      "metadata": {
        "id": "qC6MZDF8PEqN"
      },
      "source": [
        "## Velocity of End Effector (#8)"
      ]
    },
    {
      "cell_type": "markdown",
      "metadata": {
        "id": "DKPYtUQ6-Yj7"
      },
      "source": [
        ">Estimate the velocity of the end-effector in this configuration. Using the Jacobian, calculate the speed required by the input(s) to achieve that output motion.\r\n",
        "\r\n",
        "Below are the calculations done to find the velocity of the end effector. See discussion for more details."
      ]
    },
    {
      "cell_type": "code",
      "metadata": {
        "id": "J9-b1u7Xnh-E",
        "colab": {
          "base_uri": "https://localhost:8080/"
        },
        "outputId": "7e9e2f99-bc4c-4f9b-e984-a2fa61c3d9f0"
      },
      "source": [
        "vout"
      ],
      "execution_count": null,
      "outputs": [
        {
          "output_type": "execute_result",
          "data": {
            "text/plain": [
              "l0*qA_d*F.y*cos(qA)/cos(qF)"
            ]
          },
          "metadata": {
            "tags": []
          },
          "execution_count": 40
        }
      ]
    },
    {
      "cell_type": "code",
      "metadata": {
        "id": "Ga3eEcl6PK05",
        "colab": {
          "base_uri": "https://localhost:8080/"
        },
        "outputId": "c2171af4-9fce-4ddb-b167-b6d557a535c5"
      },
      "source": [
        "angA = 135*pi/180 #radians\r\n",
        "angF = 45*pi/180 #radians\r\n",
        "length0 = 0.0254 #meters\r\n",
        "v_in = 0.02 # meters/sec\r\n",
        "r = 0.0254\r\n",
        "w = -v_in/r\r\n",
        "v_out = length0 * w * m.cos(angA)/m.cos(angF)\r\n",
        "v_out"
      ],
      "execution_count": null,
      "outputs": [
        {
          "output_type": "execute_result",
          "data": {
            "text/plain": [
              "0.019999999999999997"
            ]
          },
          "metadata": {
            "tags": []
          },
          "execution_count": 41
        }
      ]
    },
    {
      "cell_type": "markdown",
      "metadata": {
        "id": "w69RYfciPN6N"
      },
      "source": [
        "## Power (#9)"
      ]
    },
    {
      "cell_type": "markdown",
      "metadata": {
        "id": "vpejfnKL-Z9A"
      },
      "source": [
        ">Finally, using the two estimates about force and speed at the input, compute the required power in this configuration\r\n",
        "\r\n",
        "Power = Force * Velocity "
      ]
    },
    {
      "cell_type": "code",
      "metadata": {
        "id": "S6lTFavOPRf2",
        "colab": {
          "base_uri": "https://localhost:8080/"
        },
        "outputId": "55aebfa9-ed98-4d37-9f46-7246128943bb"
      },
      "source": [
        "power = F_in * v_out\r\n",
        "power"
      ],
      "execution_count": null,
      "outputs": [
        {
          "output_type": "execute_result",
          "data": {
            "text/plain": [
              "0.0100000000000000"
            ]
          },
          "metadata": {
            "tags": []
          },
          "execution_count": 42
        }
      ]
    },
    {
      "cell_type": "markdown",
      "metadata": {
        "id": "qBqMRkcaPS_7"
      },
      "source": [
        "## Discussion"
      ]
    },
    {
      "cell_type": "markdown",
      "metadata": {
        "id": "9fuaZ4tOPWqx"
      },
      "source": [
        "1. How many degrees of freedom does your device have? How many motors? If the answer is not the same, what determines the state of the remaining degrees of freedom? How did you arrive at that number?\r\n",
        "\r\n",
        "Our system has one degree of freedom and we will be driving our system with the strength of one motor. The links will be constrained in such a way that the output will translate in the x direction as we use a sarrus linkage mechanism. Our device will eventually have 4 linked sarrus mechanisms to produce peristaltic motion in the x direction. This would consist of offsetting each sarrus at specific times (compression or expansion) and using one driving motor, a system of offset cables can act as a new motor per sarrus. \r\n",
        "\r\n"
      ]
    },
    {
      "cell_type": "markdown",
      "metadata": {
        "id": "ikae3i8qPW1g"
      },
      "source": [
        "2. If your mechanism has more than one degree of freedom, please describe how those multiple degrees of freedom will work togehter to create a locomotory gait or useful motion. What is your plan for synchonizing, especially if passive energy storage?\r\n",
        "\r\n",
        "As previously stated, our system has one degree of freedom, in x direction. As the x distance between links 1 and 4 decreases, the y distance between point A and Ctip/Dtip will increase, thus creating motion. The frictional force with the ground prevents back slip in the link giving one directional motion. When combined with 3 other sarrus mechanisms the device can offset the contraction and extension of each to generate wave like motion called peristaltic motion. Using one input motor, a series of cables can be offset so that they pull on the flat plate of each sarrus mechanism separately, contracting it. A spring could then help extend it. By contracting the first link, then the second, third and fourth, then extending in the same order, it generates walking. \r\n"
      ]
    },
    {
      "cell_type": "markdown",
      "metadata": {
        "id": "4QdbUzh8PXAN"
      },
      "source": [
        "3. How did you estimate your expected end-effector forces\r\n",
        "\r\n",
        "Our robot kinematics was modeled with bio-inspiration from the common earthworm. Based on previously conducted research on the biomechanics of the earthworm, we used the maximum mass of the worm as a basis of calculating the ground reaction force that our end effector will experience. Ideally, the end effector will experience a force unique to the specific segment, however using the maximum mass provides enough room for errors and overloading of the end effector.\r\n",
        "\r\n"
      ]
    },
    {
      "cell_type": "markdown",
      "metadata": {
        "id": "lVc4zzl3PXTh"
      },
      "source": [
        "4. How did you estimate your expected end-effector speeds\r\n",
        "\r\n",
        "The equation for the velocity of the end effector was found symbolically through the python simulation above. For the estimated velocity values, we used values determined by the biomechanics assignment for worm speed. Geometric relations for angular speed helped us determine the output velocity given a specific input. \r\n"
      ]
    },
    {
      "cell_type": "code",
      "metadata": {
        "id": "A0FiOtOGPh-o"
      },
      "source": [
        ""
      ],
      "execution_count": null,
      "outputs": []
    }
  ]
}